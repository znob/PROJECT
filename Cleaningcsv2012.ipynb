{
 "cells": [
  {
   "cell_type": "code",
   "execution_count": 2,
   "metadata": {},
   "outputs": [],
   "source": [
    "import pandas as pd\n",
    "import numpy as np\n",
    "import re"
   ]
  },
  {
   "cell_type": "code",
   "execution_count": 3,
   "metadata": {},
   "outputs": [],
   "source": [
    "df = pd.read_csv('2012100.csv', header=None)"
   ]
  },
  {
   "cell_type": "code",
   "execution_count": 4,
   "metadata": {},
   "outputs": [
    {
     "data": {
      "text/html": [
       "<div>\n",
       "<style scoped>\n",
       "    .dataframe tbody tr th:only-of-type {\n",
       "        vertical-align: middle;\n",
       "    }\n",
       "\n",
       "    .dataframe tbody tr th {\n",
       "        vertical-align: top;\n",
       "    }\n",
       "\n",
       "    .dataframe thead th {\n",
       "        text-align: right;\n",
       "    }\n",
       "</style>\n",
       "<table border=\"1\" class=\"dataframe\">\n",
       "  <thead>\n",
       "    <tr style=\"text-align: right;\">\n",
       "      <th></th>\n",
       "      <th>0</th>\n",
       "      <th>1</th>\n",
       "      <th>2</th>\n",
       "      <th>3</th>\n",
       "    </tr>\n",
       "  </thead>\n",
       "  <tbody>\n",
       "    <tr>\n",
       "      <th>0</th>\n",
       "      <td>RankArtist</td>\n",
       "      <td>Price</td>\n",
       "      <td>Name</td>\n",
       "      <td>DateandHouse</td>\n",
       "    </tr>\n",
       "    <tr>\n",
       "      <th>1</th>\n",
       "      <td>1 mUnCh Edvard</td>\n",
       "      <td>107,000,000</td>\n",
       "      <td>The scream (1895)</td>\n",
       "      <td>02 may 2012 (Sotheby's nY)</td>\n",
       "    </tr>\n",
       "    <tr>\n",
       "      <th>2</th>\n",
       "      <td>2 rOThkO mark</td>\n",
       "      <td>77,500,000</td>\n",
       "      <td>Orange, Red, Yellow (1961)</td>\n",
       "      <td>08 may 2012 (Christie's nY)</td>\n",
       "    </tr>\n",
       "    <tr>\n",
       "      <th>3</th>\n",
       "      <td>3 rOThkO mark</td>\n",
       "      <td>67,000,000</td>\n",
       "      <td>No. 1 (Royal Red And Blue)</td>\n",
       "      <td>13 nov. 2012 (Sotheby's nY)</td>\n",
       "    </tr>\n",
       "    <tr>\n",
       "      <th>4</th>\n",
       "      <td>4 rAPhAEL</td>\n",
       "      <td>42,675,600</td>\n",
       "      <td>Head of a Young Apostle</td>\n",
       "      <td>05 Dec. 2012 (Sotheby's LOnDOn)</td>\n",
       "    </tr>\n",
       "  </tbody>\n",
       "</table>\n",
       "</div>"
      ],
      "text/plain": [
       "                0            1                           2  \\\n",
       "0      RankArtist        Price                        Name   \n",
       "1  1 mUnCh Edvard  107,000,000           The scream (1895)   \n",
       "2   2 rOThkO mark   77,500,000  Orange, Red, Yellow (1961)   \n",
       "3   3 rOThkO mark   67,000,000  No. 1 (Royal Red And Blue)   \n",
       "4       4 rAPhAEL   42,675,600     Head of a Young Apostle   \n",
       "\n",
       "                                 3  \n",
       "0                     DateandHouse  \n",
       "1       02 may 2012 (Sotheby's nY)  \n",
       "2      08 may 2012 (Christie's nY)  \n",
       "3      13 nov. 2012 (Sotheby's nY)  \n",
       "4  05 Dec. 2012 (Sotheby's LOnDOn)  "
      ]
     },
     "execution_count": 4,
     "metadata": {},
     "output_type": "execute_result"
    }
   ],
   "source": [
    "df.head()"
   ]
  },
  {
   "cell_type": "code",
   "execution_count": 5,
   "metadata": {},
   "outputs": [
    {
     "data": {
      "text/plain": [
       "0                                     DateandHouse\n",
       "1                       02 may 2012 (Sotheby's nY)\n",
       "2                      08 may 2012 (Christie's nY)\n",
       "3                      13 nov. 2012 (Sotheby's nY)\n",
       "4                  05 Dec. 2012 (Sotheby's LOnDOn)\n",
       "5        03 June 2012 (Poly international BEiJinG)\n",
       "6                       09 may 2012 (Sotheby's nY)\n",
       "7                       09 may 2012 (Sotheby's nY)\n",
       "8                     07 nov. 2012 (Christie's nY)\n",
       "9                     14 nov. 2012 (Christie's nY)\n",
       "10                      8 nov. 2012 (Sotheby's nY)\n",
       "11                    14 nov. 2012 (Christie's nY)\n",
       "12                     13 nov. 2012 (Sotheby's nY)\n",
       "13                      09 may 2012 (Sotheby's nY)\n",
       "14                 19 June 2012 (Sotheby's LOnDOn)\n",
       "15                27 June 2012 (Christie's LOnDOn)\n",
       "16                     08 may 2012 (Christie's nY)\n",
       "17                03 Jul. 2012 (Christie's LOnDOn)\n",
       "18                 12 Oct. 2012 (Sotheby's LOnDOn)\n",
       "19                    14 nov. 2012 (Christie's nY)\n",
       "20                14 Feb. 2012 (Christie's LOnDOn)\n",
       "21                27 June 2012 (Christie's LOnDOn)\n",
       "22                07 Feb. 2012 (Christie's LOnDOn)\n",
       "23                     13 nov. 2012 (Sotheby's nY)\n",
       "24                      02 may 2012 (Sotheby's nY)\n",
       "25                    14 nov. 2012 (Christie's nY)\n",
       "26                07 Feb. 2012 (Christie's LOnDOn)\n",
       "27                    14 nov. 2012 (Christie's nY)\n",
       "28                    14 nov. 2012 (Christie's nY)\n",
       "29                    07 nov. 2012 (Christie's nY)\n",
       "                          ...                     \n",
       "71          10 may 2012 (Phillips de Pury & Co nY)\n",
       "72         15 nov. 2012 (Phillips de Pury & Co nY)\n",
       "73         15 nov. 2012 (Phillips de Pury & Co nY)\n",
       "74                     08 nov. 2012 (Sotheby's nY)\n",
       "75                27 June 2012 (Christie's LOnDOn)\n",
       "76                      09 may 2012 (Sotheby's nY)\n",
       "77              28 Dec. 2012 (DuoYunXuan ShAnGhAi)\n",
       "78                 08 Feb. 2012 (Sotheby's LOnDOn)\n",
       "79                20 June 2012 (Christie's LOnDOn)\n",
       "80                    07 nov. 2012 (Christie's nY)\n",
       "81                    14 nov. 2012 (Christie's nY)\n",
       "82                20 June 2012 (Christie's LOnDOn)\n",
       "83                      09 may 2012 (Sotheby's nY)\n",
       "84       07 Jan. 2012 (Jingdian Auctions nAnJinG )\n",
       "85     28 June 2012 (Phillips de Pury & Co LOnDOn)\n",
       "86                     08 may 2012 (Christie's nY)\n",
       "87                      17 may 2012 (Sotheby's nY)\n",
       "88          10 may 2012 (Phillips de Pury & Co nY)\n",
       "89         15 nov. 2012 (Phillips de Pury & Co nY)\n",
       "90                    14 nov. 2012 (Christie's nY)\n",
       "91                     01 may 2012 (Christie's nY)\n",
       "92                     13 nov. 2012 (Sotheby's nY)\n",
       "93          02 June 2012 (Googut Auctions BEiJinG)\n",
       "94           28 Oct. 2012 (China Guardian BEiJinG)\n",
       "95                20 June 2012 (Christie's LOnDOn)\n",
       "96                 19 June 2012 (Sotheby's LOnDOn)\n",
       "97                27 June 2012 (Christie's LOnDOn)\n",
       "98                    28 nov. 2012 (Christie's nY)\n",
       "99                     01 may 2012 (Christie’s nY)\n",
       "100                     02 may 2012 (Sotheby’s nY)\n",
       "Name: 3, Length: 101, dtype: object"
      ]
     },
     "execution_count": 5,
     "metadata": {},
     "output_type": "execute_result"
    }
   ],
   "source": [
    "df[3]"
   ]
  },
  {
   "cell_type": "code",
   "execution_count": 6,
   "metadata": {},
   "outputs": [],
   "source": [
    "artist_list = []\n",
    "dictionary_keys = ['Rank', 'Last', 'First', 'Price', 'Title', 'Date']"
   ]
  },
  {
   "cell_type": "code",
   "execution_count": 7,
   "metadata": {
    "scrolled": true
   },
   "outputs": [
    {
     "ename": "SyntaxError",
     "evalue": "unexpected EOF while parsing (<ipython-input-7-2110e195f1ae>, line 3)",
     "output_type": "error",
     "traceback": [
      "\u001b[0;36m  File \u001b[0;32m\"<ipython-input-7-2110e195f1ae>\"\u001b[0;36m, line \u001b[0;32m3\u001b[0m\n\u001b[0;31m    \u001b[0m\n\u001b[0m    ^\u001b[0m\n\u001b[0;31mSyntaxError\u001b[0m\u001b[0;31m:\u001b[0m unexpected EOF while parsing\n"
     ]
    }
   ],
   "source": [
    "for index, row in df.iterrows():\n",
    "     \n",
    "    "
   ]
  },
  {
   "cell_type": "code",
   "execution_count": 13,
   "metadata": {},
   "outputs": [],
   "source": [
    "import csv\n",
    "def get_data(file):\n",
    "    file = file\n",
    "    artists = []\n",
    "    with open(file) as fh:\n",
    "        rd = csv.DictReader(fh, delimiter = ',')\n",
    "        for row in rd:\n",
    "            artists.append(row)\n",
    "    return artists"
   ]
  },
  {
   "cell_type": "code",
   "execution_count": 9,
   "metadata": {},
   "outputs": [],
   "source": [
    "artists[0]\n",
    "dict_keys = ['RankArtist', ' Price',' Name', ' DateandHouse' ]"
   ]
  },
  {
   "cell_type": "code",
   "execution_count": 10,
   "metadata": {},
   "outputs": [
    {
     "data": {
      "text/plain": [
       "'Munch'"
      ]
     },
     "execution_count": 10,
     "metadata": {},
     "output_type": "execute_result"
    }
   ],
   "source": [
    "artists[0]['RankArtist'].title().split()[1]"
   ]
  },
  {
   "cell_type": "code",
   "execution_count": 11,
   "metadata": {},
   "outputs": [],
   "source": [
    "new_list = []\n",
    "for artist in artists:\n",
    "    dict_toadd = {}\n",
    "    name_rank = artist['RankArtist'].title().split()\n",
    "    dict_toadd['Rank'] = int(name_rank[0])\n",
    "    dict_toadd['Artist'] = name_rank[1:]\n",
    "    dict_toadd['Price'] = int(re.sub(\"[^0-9]\", \"\", artist[' Price']))\n",
    "    dict_toadd['Name'] = artist[' Name']\n",
    "    auction_date = artist[' DateandHouse'].title().split(' (')\n",
    "    dict_toadd['Date'] = auction_date[0].split()\n",
    "    dict_toadd['AuctionHouse'] = auction_date[1].strip(')').title()\n",
    "    new_list.append(dict_toadd)"
   ]
  },
  {
   "cell_type": "code",
   "execution_count": 14,
   "metadata": {},
   "outputs": [
    {
     "data": {
      "text/plain": [
       "{'Rank': 1,\n",
       " 'Artist': ['Munch', 'Edvard'],\n",
       " 'Price': 107000000,\n",
       " 'Name': 'The scream (1895)',\n",
       " 'Date': ['02', 'May', '2012'],\n",
       " 'AuctionHouse': \"Sotheby'S Ny\"}"
      ]
     },
     "execution_count": 14,
     "metadata": {},
     "output_type": "execute_result"
    }
   ],
   "source": [
    "new_list[0]"
   ]
  },
  {
   "cell_type": "code",
   "execution_count": 18,
   "metadata": {},
   "outputs": [],
   "source": [
    "top5002012csv = get_data('2012500-rank-artist-auctiontotal.csv')"
   ]
  },
  {
   "cell_type": "code",
   "execution_count": 26,
   "metadata": {},
   "outputs": [
    {
     "data": {
      "text/plain": [
       "OrderedDict([('A', '1'),\n",
       "             ('B', 'WArhOL Andy (1928-1987)'),\n",
       "             ('C', '$329,963,430')])"
      ]
     },
     "execution_count": 26,
     "metadata": {},
     "output_type": "execute_result"
    }
   ],
   "source": [
    "top5002012csv[0]"
   ]
  },
  {
   "cell_type": "code",
   "execution_count": 37,
   "metadata": {},
   "outputs": [],
   "source": [
    "cleantop5002012 = []\n",
    "for artist in top5002012csv:\n",
    "    new_item = {}\n",
    "    new_item['Rank'] = int(artist['A'])\n",
    "    name_date = artist['B'].title().split()\n",
    "    new_item['Name'] = name_date[:-1]\n",
    "    years = name_date[-1].strip('()').split('-')\n",
    "    new_item['Life'] = years\n",
    "    new_item['TotalPrice'] = int(re.sub(\"[^0-9]\", \"\", artist['C']))\n",
    "    cleantop5002012.append(new_item)"
   ]
  },
  {
   "cell_type": "code",
   "execution_count": 40,
   "metadata": {},
   "outputs": [
    {
     "data": {
      "text/plain": [
       "[{'Rank': 1,\n",
       "  'Name': ['Warhol', 'Andy'],\n",
       "  'Life': ['1928', '1987'],\n",
       "  'TotalPrice': 329963430},\n",
       " {'Rank': 2,\n",
       "  'Name': ['Zhang', 'Daqian'],\n",
       "  'Life': ['1899', '1983'],\n",
       "  'TotalPrice': 287223639}]"
      ]
     },
     "execution_count": 40,
     "metadata": {},
     "output_type": "execute_result"
    }
   ],
   "source": [
    "cleantop5002012[:2]"
   ]
  },
  {
   "cell_type": "code",
   "execution_count": null,
   "metadata": {},
   "outputs": [],
   "source": []
  }
 ],
 "metadata": {
  "kernelspec": {
   "display_name": "Python 3",
   "language": "python",
   "name": "python3"
  },
  "language_info": {
   "codemirror_mode": {
    "name": "ipython",
    "version": 3
   },
   "file_extension": ".py",
   "mimetype": "text/x-python",
   "name": "python",
   "nbconvert_exporter": "python",
   "pygments_lexer": "ipython3",
   "version": "3.7.0"
  }
 },
 "nbformat": 4,
 "nbformat_minor": 2
}
