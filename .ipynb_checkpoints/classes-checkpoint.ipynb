{
 "cells": [
  {
   "cell_type": "code",
   "execution_count": 1,
   "metadata": {},
   "outputs": [],
   "source": [
    "from sqlalchemy import *\n",
    "from sqlalchemy.ext.declarative import declarative_base\n",
    "from sqlalchemy.orm import sessionmaker, relationship\n",
    "import re\n",
    "import time\n",
    "import unidecode"
   ]
  },
  {
   "cell_type": "code",
   "execution_count": 2,
   "metadata": {},
   "outputs": [],
   "source": [
    "Base = declarative_base()"
   ]
  },
  {
   "cell_type": "code",
   "execution_count": 3,
   "metadata": {},
   "outputs": [],
   "source": [
    "class Artist(Base):\n",
    "    __tablename__ = 'artists'\n",
    "    id = Column(Integer, primary_key=True)\n",
    "    name = Column(Text)\n",
    "    gender = Column(Text)\n",
    "    birthday = Column(Integer)\n",
    "    deathday = Column(Integer)\n",
    "#     hometown = Column(Text)\n",
    "    location = Column(Text)\n",
    "    nationality = Column(Text)\n",
    "    years = relationship('Year', back_populates='artist')\n",
    "    genes = relationship('Gene', secondary='artists_genes')"
   ]
  },
  {
   "cell_type": "code",
   "execution_count": 4,
   "metadata": {},
   "outputs": [],
   "source": [
    "class Year(Base):\n",
    "    __tablename__ = 'years'\n",
    "    id = Column(Integer, primary_key=True)\n",
    "    year = Column(Integer)\n",
    "    rank = Column(Integer)\n",
    "    artist_id = Column(Integer, ForeignKey('artists.id'))\n",
    "    artist = relationship('Artist', back_populates='years')\n",
    "    totalsold = Column(Integer)\n",
    "    totallots =  Column(Integer)\n",
    "    maxprice = Column(Integer)"
   ]
  },
  {
   "cell_type": "code",
   "execution_count": 5,
   "metadata": {},
   "outputs": [],
   "source": [
    "#if no display_name, name\n",
    "class Gene(Base):\n",
    "    __tablename__= 'genes'\n",
    "    id = Column(Integer, primary_key=True)\n",
    "    name = Column(Text)\n",
    "    artists = relationship('Artist', secondary='artists_genes')"
   ]
  },
  {
   "cell_type": "code",
   "execution_count": 6,
   "metadata": {},
   "outputs": [],
   "source": [
    "class ArtistGene(Base):\n",
    "    __tablename__ = 'artists_genes'\n",
    "    artist_id = Column(Integer, ForeignKey('artists.id'), primary_key=True)\n",
    "    gene_id = Column(Integer, ForeignKey('genes.id'), primary_key=True)"
   ]
  },
  {
   "cell_type": "code",
   "execution_count": 7,
   "metadata": {},
   "outputs": [],
   "source": [
    "engine = create_engine('sqlite:///artsy.db')\n",
    "Base.metadata.create_all(engine)"
   ]
  },
  {
   "cell_type": "code",
   "execution_count": 8,
   "metadata": {},
   "outputs": [],
   "source": [
    "Session = sessionmaker(bind=engine)\n",
    "session = Session()"
   ]
  },
  {
   "cell_type": "code",
   "execution_count": 9,
   "metadata": {},
   "outputs": [],
   "source": [
    "from artists2010 import clean2010top500"
   ]
  },
  {
   "cell_type": "code",
   "execution_count": 10,
   "metadata": {},
   "outputs": [
    {
     "data": {
      "text/plain": [
       "'niki-de-saint-phalle'"
      ]
     },
     "execution_count": 10,
     "metadata": {},
     "output_type": "execute_result"
    }
   ],
   "source": [
    "\"-\".join(clean2010top500[400]['Name']).lower()"
   ]
  },
  {
   "cell_type": "code",
   "execution_count": 9,
   "metadata": {},
   "outputs": [],
   "source": [
    "import requests\n",
    "import json\n",
    "\n",
    "client_id = '5a2c7ea90a393fa55c65'\n",
    "client_secret = '5cda60eedbc43c586621c30d6d19210e'\n",
    "\n",
    "r = requests.post('https://api.artsy.net/api/tokens/xapp_token',\n",
    "                      data={'client_id': client_id, 'client_secret': client_secret})\n",
    "\n",
    "token_text = json.loads(r.text)\n",
    "\n",
    "token = token_text['token']\n",
    "\n",
    "headers = {'X-Xapp-Token': token}\n",
    "\n",
    "list_answer = {}\n",
    "artists = 'qi-baishi'\n",
    "\n",
    "# api_url='https://api.artsy.net/api/artists/'+artists.lower()\n",
    "api_url = 'https://api.artsy.net/api/search?offset=0&q=ZHU+DA'\n",
    "res = requests.get(api_url, headers=headers)\n",
    "res.encoding = 'utf-8'"
   ]
  },
  {
   "cell_type": "code",
   "execution_count": 10,
   "metadata": {},
   "outputs": [
    {
     "data": {
      "text/plain": [
       "'https://api.artsy.net/api/artists/4ee262199de8920001000530'"
      ]
     },
     "execution_count": 10,
     "metadata": {},
     "output_type": "execute_result"
    }
   ],
   "source": [
    "res.json()['_embedded']['results'][0]['_links']['self']['href']"
   ]
  },
  {
   "cell_type": "code",
   "execution_count": 24,
   "metadata": {},
   "outputs": [],
   "source": [
    "def verify_artist(json_thing):\n",
    "    if json_thing.get('type') != 'other_error':\n",
    "        return True\n",
    "    elif json_thing.get('type') == 'other_error':\n",
    "        return False\n",
    "\n",
    "# Order is fine, gotta figure 404s\n",
    "def query_json(artist_name):\n",
    "    artist_name = [re.sub(\"[')(.]\", '', x)  for x in artist_name]\n",
    "    artist_name = [unidecode.unidecode(y) for y in artist_name]\n",
    "    name = \"-\".join(artist_name)\n",
    "    api_url='https://api.artsy.net/api/artists/'+name.lower()\n",
    "    res = requests.get(api_url, headers=headers)\n",
    "    res.encoding = 'utf-8'\n",
    "    verifiable = verify_artist(res.json())\n",
    "    if  verifiable == True:\n",
    "        #debugging\n",
    "#         print('verified true')\n",
    "#         print(res)\n",
    "        #########\n",
    "        return res.json()\n",
    "    elif verifiable == False :\n",
    "        new_name = list(reversed(artist_name))\n",
    "        name = \"-\".join(new_name)\n",
    "        api_url='https://api.artsy.net/api/artists/'+name.lower()\n",
    "        res = requests.get(api_url, headers=headers)\n",
    "        res.encoding = 'utf-8'\n",
    "        #debugging\n",
    "#         print('flipped name')\n",
    "#         print(res)\n",
    "        #########\n",
    "        if res.status_code == 404:\n",
    "            search_url = 'https://api.artsy.net/api/search?q='+ \"+\".join(artist_name)\n",
    "            res = requests.get(search_url, headers=headers)\n",
    "            res.encoding = 'utf-8'\n",
    "            try:\n",
    "                t = res.json()['_embedded']['results']\n",
    "#                 [0]['type']\n",
    "# New Code\n",
    "                for result in t[:3]:\n",
    "                    if result['type'] == 'artist':\n",
    "                        api_url = result['_links']['self']['href']\n",
    "                        res = requests.get(api_url, headers=headers)\n",
    "                        res.encoding = 'utf-8'\n",
    "                        x = session.query(Artist).filter(Artist.name == res.json()['name']).first()\n",
    "                        if x == None:\n",
    "                            return res.json()\n",
    "#  New CODE\n",
    "            except:\n",
    "                t = []\n",
    "            if t  != 'artist':\n",
    "                print('no result found')\n",
    "                return {'name' : \" \".join(artist_name), 'skip':True}  \n",
    "            api_url = res.json()['_embedded']['results'][0]['_links']['self']['href']\n",
    "            res = requests.get(api_url, headers=headers)\n",
    "            res.encoding = 'utf-8'\n",
    "            #debugging\n",
    "            print('search query')\n",
    "            print(res)\n",
    "            ##########\n",
    "            return res.json()\n",
    "        return res.json()\n",
    "    "
   ]
  },
  {
   "cell_type": "code",
   "execution_count": 35,
   "metadata": {},
   "outputs": [],
   "source": [
    "search_url = 'https://api.artsy.net/api/search?q='+ '-'.join(['Xu', 'Cao'])\n",
    "res = requests.get(search_url, headers=headers)\n",
    "res.encoding = 'utf-8'"
   ]
  },
  {
   "cell_type": "code",
   "execution_count": 36,
   "metadata": {},
   "outputs": [
    {
     "data": {
      "text/plain": [
       "{'results': [{'type': 'artwork',\n",
       "   'title': 'Xu Yong, Caocang Hutong (1989)',\n",
       "   'description': '150 × 110 cm',\n",
       "   'og_type': 'artwork',\n",
       "   '_links': {'self': {'href': 'https://api.artsy.net/api/artworks/5b8b4fee9fbb125ac9dd3b15'},\n",
       "    'permalink': {'href': 'http://www.artsy.net/artwork/5b8b4fee9fbb125ac9dd3b15'},\n",
       "    'thumbnail': {'href': 'https://d32dm0rphc51dk.cloudfront.net/QiBCLqGfLkMN3XX24vcPmw/square.jpg'}}},\n",
       "  {'type': 'artist',\n",
       "   'title': 'Cao Xiaodong',\n",
       "   'description': None,\n",
       "   'og_type': 'artist',\n",
       "   '_links': {'self': {'href': 'https://api.artsy.net/api/artists/56d40efd6d932d4467000561'},\n",
       "    'permalink': {'href': 'http://www.artsy.net/artist/cao-xiaodong'},\n",
       "    'thumbnail': {'href': 'https://d32dm0rphc51dk.cloudfront.net/wb2KuIsXog-nOWHEDC-8IQ/square.jpg'}}},\n",
       "  {'type': 'show',\n",
       "   'title': '\"Caos\"',\n",
       "   'description': None,\n",
       "   'og_type': 'show',\n",
       "   '_links': {'self': {'href': 'https://api.artsy.net/api/shows/5af6dacf1a1e8617178df559'},\n",
       "    'permalink': {'href': 'http://www.artsy.net/show/blanca-soto-arte-caos'},\n",
       "    'thumbnail': {'href': '/assets/shared/missing_image.png'}}},\n",
       "  {'type': 'artist',\n",
       "   'title': 'Cao Fei',\n",
       "   'description': None,\n",
       "   'og_type': 'artist',\n",
       "   '_links': {'self': {'href': 'https://api.artsy.net/api/artists/4df3bc0f900008000101190a'},\n",
       "    'permalink': {'href': 'http://www.artsy.net/artist/cao-fei'},\n",
       "    'thumbnail': {'href': 'https://d32dm0rphc51dk.cloudfront.net/EEJLneTv_LGCTvU7Dur9ng/square.jpg'}}},\n",
       "  {'type': 'artist',\n",
       "   'title': 'Zou Cao',\n",
       "   'description': None,\n",
       "   'og_type': 'artist',\n",
       "   '_links': {'self': {'href': 'https://api.artsy.net/api/artists/506b3308446617000200016e'},\n",
       "    'permalink': {'href': 'http://www.artsy.net/artist/zou-cao'},\n",
       "    'thumbnail': {'href': 'https://d32dm0rphc51dk.cloudfront.net/IgeAMYCR76svkVRfcDI_bQ/square.jpg'}}},\n",
       "  {'type': 'artist',\n",
       "   'title': 'Cao Xiaoyang',\n",
       "   'description': None,\n",
       "   'og_type': 'artist',\n",
       "   '_links': {'self': {'href': 'https://api.artsy.net/api/artists/54ee42fd7261691c0f4a0600'},\n",
       "    'permalink': {'href': 'http://www.artsy.net/artist/cao-xiaoyang'},\n",
       "    'thumbnail': {'href': 'https://d32dm0rphc51dk.cloudfront.net/kH-nU7z3O5WTfzr0psQVLQ/square.jpg'}}},\n",
       "  {'type': 'artist',\n",
       "   'title': 'Cao Ou',\n",
       "   'description': None,\n",
       "   'og_type': 'artist',\n",
       "   '_links': {'self': {'href': 'https://api.artsy.net/api/artists/5ac26af2cb4c2717936a0170'},\n",
       "    'permalink': {'href': 'http://www.artsy.net/artist/cao-ou'},\n",
       "    'thumbnail': {'href': 'https://d32dm0rphc51dk.cloudfront.net/YlrAktsEQuU6sH_H5SQtBg/square.jpg'}}},\n",
       "  {'type': 'artist',\n",
       "   'title': 'Chen Cao',\n",
       "   'description': None,\n",
       "   'og_type': 'artist',\n",
       "   '_links': {'self': {'href': 'https://api.artsy.net/api/artists/5908cd8c7622dd665ce84cbe'},\n",
       "    'permalink': {'href': 'http://www.artsy.net/artist/chen-cao'},\n",
       "    'thumbnail': {'href': 'https://d32dm0rphc51dk.cloudfront.net/-AnTZ4oxCKCF7Al-z9wAzQ/square.jpg'}}},\n",
       "  {'type': 'artist',\n",
       "   'title': 'Mengwen Cao',\n",
       "   'description': None,\n",
       "   'og_type': 'artist',\n",
       "   '_links': {'self': {'href': 'https://api.artsy.net/api/artists/5bbd3d4b57e69b02fab3e041'},\n",
       "    'permalink': {'href': 'http://www.artsy.net/artist/mengwen-cao'},\n",
       "    'thumbnail': {'href': 'https://d32dm0rphc51dk.cloudfront.net/qDRiiLItV24lR8Qsj9iPcg/square.jpg'}}},\n",
       "  {'type': 'artist',\n",
       "   'title': 'cao yi',\n",
       "   'description': None,\n",
       "   'og_type': 'artist',\n",
       "   '_links': {'self': {'href': 'https://api.artsy.net/api/artists/5a26dfc4139b217523efb1a4'},\n",
       "    'permalink': {'href': 'http://www.artsy.net/artist/cao-yi'},\n",
       "    'thumbnail': {'href': 'https://d32dm0rphc51dk.cloudfront.net/z_URVgDloe6RFVAuskAwlQ/square.jpg'}}}]}"
      ]
     },
     "execution_count": 36,
     "metadata": {},
     "output_type": "execute_result"
    }
   ],
   "source": [
    "res.json()['_embedded']"
   ]
  },
  {
   "cell_type": "code",
   "execution_count": 34,
   "metadata": {},
   "outputs": [
    {
     "name": "stdout",
     "output_type": "stream",
     "text": [
      "no result found\n"
     ]
    },
    {
     "data": {
      "text/plain": [
       "{'name': 'Xu Cao', 'skip': True}"
      ]
     },
     "execution_count": 34,
     "metadata": {},
     "output_type": "execute_result"
    }
   ],
   "source": [
    "query_json(['Xu', 'Cao'])"
   ]
  },
  {
   "cell_type": "code",
   "execution_count": 16,
   "metadata": {},
   "outputs": [],
   "source": [
    "def create_genes(artist_json):\n",
    "    genes_toadd = []\n",
    "    if artist_json.get('skip'):\n",
    "        return []\n",
    "    else:\n",
    "        x = artist_json['_links']['genes']['href']\n",
    "    genes = requests.get(x, headers=headers)\n",
    "    gene_json = genes.json()['_embedded']['genes']\n",
    "    artist_genes = []\n",
    "    for gene in gene_json:\n",
    "        if gene['display_name'] != None:\n",
    "            artist_genes.append(gene['display_name']) \n",
    "        else: \n",
    "            artist_genes.append(gene['name'])\n",
    "    gene_objects = []\n",
    "    for gene in artist_genes:\n",
    "        existing = session.query(Gene).filter(Gene.name == gene).first()\n",
    "        if existing:\n",
    "            gene_objects.append(existing)\n",
    "        else:\n",
    "            gene_objects.append(Gene(name=gene))\n",
    "    return gene_objects"
   ]
  },
  {
   "cell_type": "code",
   "execution_count": 17,
   "metadata": {},
   "outputs": [],
   "source": [
    "session.query(Artist).filter(Artist.name == None).first()"
   ]
  },
  {
   "cell_type": "code",
   "execution_count": 18,
   "metadata": {},
   "outputs": [],
   "source": [
    "def create_artist(artist_name):\n",
    "    artist_json = query_json(artist_name)\n",
    "    existing = session.query(Artist).filter(Artist.name == artist_json['name']).first()\n",
    "    if existing:\n",
    "        return existing\n",
    "    else:\n",
    "        n = artist_json.get('name')\n",
    "        g = artist_json.get('gender')\n",
    "        bday = artist_json.get('birthday')\n",
    "        dday = artist_json.get('deathday')\n",
    "        loc = artist_json.get('location')\n",
    "        nat = artist_json.get('nationality')\n",
    "        gen = create_genes(artist_json)\n",
    "        return Artist(name=n, gender=g, birthday=bday,\n",
    "                     deathday=dday, location=loc, nationality=nat, genes=gen)"
   ]
  },
  {
   "cell_type": "code",
   "execution_count": 19,
   "metadata": {},
   "outputs": [],
   "source": [
    "def create_database_year(year):\n",
    "    for row in year:\n",
    "        print(row['Rank'])\n",
    "        name = row['Name']\n",
    "        artist_object = create_artist(name)\n",
    "        time.sleep(1.5)\n",
    "        year = Year(year=row['SaleYear'],\n",
    "                    rank=row['Rank'],\n",
    "                    artist=artist_object,\n",
    "                    totalsold=row['TotalSold'],\n",
    "                    totallots=row['TotalLots'],\n",
    "                    maxprice=row['MaxPrice'])\n",
    "        session.add(year)\n",
    "        session.commit()"
   ]
  },
  {
   "cell_type": "code",
   "execution_count": 28,
   "metadata": {},
   "outputs": [],
   "source": [
    "from artists2013 import clean2013top500"
   ]
  },
  {
   "cell_type": "code",
   "execution_count": 32,
   "metadata": {
    "scrolled": true
   },
   "outputs": [
    {
     "name": "stdout",
     "output_type": "stream",
     "text": [
      "443\n",
      "444\n",
      "search query\n",
      "<Response [200]>\n",
      "445\n",
      "446\n",
      "search query\n",
      "<Response [200]>\n",
      "447\n",
      "search query\n",
      "<Response [200]>\n",
      "448\n",
      "449\n",
      "search query\n",
      "<Response [200]>\n",
      "450\n",
      "451\n",
      "452\n",
      "search query\n",
      "<Response [200]>\n",
      "453\n",
      "454\n",
      "455\n",
      "456\n",
      "457\n",
      "458\n",
      "459\n",
      "460\n",
      "461\n",
      "search query\n",
      "<Response [200]>\n",
      "462\n",
      "search query\n",
      "<Response [200]>\n",
      "463\n",
      "464\n",
      "465\n",
      "search query\n",
      "<Response [200]>\n",
      "466\n",
      "467\n",
      "no result found\n",
      "468\n",
      "search query\n",
      "<Response [200]>\n",
      "469\n",
      "search query\n",
      "<Response [200]>\n",
      "470\n",
      "no result found\n",
      "471\n",
      "472\n",
      "473\n",
      "474\n",
      "475\n",
      "search query\n",
      "<Response [200]>\n",
      "476\n",
      "search query\n",
      "<Response [200]>\n",
      "477\n",
      "no result found\n",
      "478\n",
      "search query\n",
      "<Response [200]>\n",
      "479\n",
      "480\n",
      "search query\n",
      "<Response [200]>\n",
      "481\n",
      "search query\n",
      "<Response [200]>\n",
      "482\n",
      "483\n",
      "search query\n",
      "<Response [200]>\n",
      "484\n",
      "search query\n",
      "<Response [200]>\n",
      "485\n",
      "486\n",
      "487\n",
      "search query\n",
      "<Response [200]>\n",
      "488\n",
      "489\n",
      "no result found\n",
      "490\n",
      "search query\n",
      "<Response [200]>\n",
      "491\n",
      "no result found\n",
      "492\n",
      "493\n",
      "494\n",
      "search query\n",
      "<Response [200]>\n",
      "495\n",
      "496\n",
      "no result found\n",
      "497\n",
      "search query\n",
      "<Response [200]>\n",
      "498\n",
      "search query\n",
      "<Response [200]>\n",
      "499\n",
      "500\n",
      "no result found\n"
     ]
    }
   ],
   "source": [
    "create_database_year(clean2013top500[442:])"
   ]
  },
  {
   "cell_type": "code",
   "execution_count": 62,
   "metadata": {},
   "outputs": [],
   "source": [
    "x = session.query(Year).filter(Year.year == 2008).all()"
   ]
  },
  {
   "cell_type": "code",
   "execution_count": 63,
   "metadata": {},
   "outputs": [],
   "source": [
    "listy = []\n",
    "for y in x:\n",
    "    listy.append(y.artist_id)"
   ]
  },
  {
   "cell_type": "code",
   "execution_count": 64,
   "metadata": {},
   "outputs": [
    {
     "data": {
      "text/plain": [
       "496"
      ]
     },
     "execution_count": 64,
     "metadata": {},
     "output_type": "execute_result"
    }
   ],
   "source": [
    "len(set(listy))"
   ]
  },
  {
   "cell_type": "code",
   "execution_count": 33,
   "metadata": {},
   "outputs": [
    {
     "data": {
      "text/plain": [
       "{'Rank': '500',\n",
       " 'Name': ['Xu', 'Cao'],\n",
       " 'TotalSold': 3005328,\n",
       " 'TotalLots': '67',\n",
       " 'MaxPrice': 565950,\n",
       " 'SaleYear': 2013}"
      ]
     },
     "execution_count": 33,
     "metadata": {},
     "output_type": "execute_result"
    }
   ],
   "source": [
    "clean2013top500[-1]"
   ]
  },
  {
   "cell_type": "code",
   "execution_count": null,
   "metadata": {},
   "outputs": [],
   "source": []
  }
 ],
 "metadata": {
  "kernelspec": {
   "display_name": "Python 3",
   "language": "python",
   "name": "python3"
  },
  "language_info": {
   "codemirror_mode": {
    "name": "ipython",
    "version": 3
   },
   "file_extension": ".py",
   "mimetype": "text/x-python",
   "name": "python",
   "nbconvert_exporter": "python",
   "pygments_lexer": "ipython3",
   "version": "3.7.0"
  }
 },
 "nbformat": 4,
 "nbformat_minor": 2
}
