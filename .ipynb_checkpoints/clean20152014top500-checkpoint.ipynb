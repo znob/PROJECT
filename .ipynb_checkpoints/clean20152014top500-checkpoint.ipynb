{
 "cells": [
  {
   "cell_type": "code",
   "execution_count": 2,
   "metadata": {},
   "outputs": [],
   "source": [
    "import pandas as pd\n",
    "import re"
   ]
  },
  {
   "cell_type": "code",
   "execution_count": 7,
   "metadata": {},
   "outputs": [],
   "source": [
    "file = 'topartistsoverall2016.csv'"
   ]
  },
  {
   "cell_type": "code",
   "execution_count": 11,
   "metadata": {},
   "outputs": [],
   "source": [
    "import csv\n",
    "def get_data(file):\n",
    "    file = file\n",
    "    artists = []\n",
    "    with open(file) as fh:\n",
    "        rd = csv.DictReader(fh, delimiter = ',')\n",
    "        for row in rd:\n",
    "            artists.append(row)\n",
    "    return artists"
   ]
  },
  {
   "cell_type": "code",
   "execution_count": 15,
   "metadata": {},
   "outputs": [
    {
     "data": {
      "text/plain": [
       "[OrderedDict([('A', '1'),\n",
       "              ('B', 'pICAsso pablo (1881-1973)'),\n",
       "              ('C', '650,837,410'),\n",
       "              ('D', '2,875'),\n",
       "              ('E', '179,365,000')]),\n",
       " OrderedDict([('A', '2'),\n",
       "              ('B', 'WARHol Andy (1928-1987)'),\n",
       "              ('C', '523,568,378'),\n",
       "              ('D', '1,453'),\n",
       "              ('E', '56,165,000')])]"
      ]
     },
     "execution_count": 15,
     "metadata": {},
     "output_type": "execute_result"
    }
   ],
   "source": [
    "x = get_data(file)\n",
    "x[:2]"
   ]
  },
  {
   "cell_type": "code",
   "execution_count": 14,
   "metadata": {},
   "outputs": [],
   "source": [
    "titles2015 = ['Rank', 'Artist', 'Turnover', 'Sold lots', 'Top Auction Result']"
   ]
  },
  {
   "cell_type": "code",
   "execution_count": 37,
   "metadata": {},
   "outputs": [],
   "source": [
    "def clean_data(read_file):\n",
    "    return_list = []\n",
    "    for artist in read_file:\n",
    "        new_item = {}\n",
    "        new_item['Rank'] = int(artist['A'])\n",
    "        name_date = artist['B'].title().split()\n",
    "        new_item['Name'] = list(reversed(name_date[:-1]))\n",
    "        years = name_date[-1].strip('()').split('-')\n",
    "        new_item['Life'] = years\n",
    "        new_item['TotalSold'] = int(re.sub(\"[^0-9]\", \"\", artist['C']))\n",
    "        new_item['TotalLots'] = int(re.sub(\"[^0-9]\", \"\", artist['D']))\n",
    "        new_item['MaxPrice'] = int(re.sub(\"[^0-9]\", \"\", artist['E']))\n",
    "        return_list.append(new_item)\n",
    "    return return_list"
   ]
  },
  {
   "cell_type": "code",
   "execution_count": 38,
   "metadata": {},
   "outputs": [],
   "source": [
    "cleantop5002015 = clean_data(x)"
   ]
  },
  {
   "cell_type": "code",
   "execution_count": 39,
   "metadata": {},
   "outputs": [
    {
     "data": {
      "text/plain": [
       "{'Rank': 3,\n",
       " 'Name': ['Claude', 'Monet'],\n",
       " 'Life': ['1840', '1926'],\n",
       " 'TotalSold': 338744605,\n",
       " 'TotalLots': 36,\n",
       " 'MaxPrice': 54010000}"
      ]
     },
     "execution_count": 39,
     "metadata": {},
     "output_type": "execute_result"
    }
   ],
   "source": [
    "cleantop5002015[2]"
   ]
  },
  {
   "cell_type": "code",
   "execution_count": 40,
   "metadata": {},
   "outputs": [],
   "source": [
    "file1 = '2014top500.csv'\n",
    "y = get_data(file1)\n",
    "cleantop5002014 = clean_data(y)"
   ]
  },
  {
   "cell_type": "code",
   "execution_count": 41,
   "metadata": {},
   "outputs": [
    {
     "data": {
      "text/plain": [
       "{'Rank': 3,\n",
       " 'Name': ['Francis', 'Bacon'],\n",
       " 'Life': ['1909', '1992'],\n",
       " 'TotalSold': 270748102,\n",
       " 'TotalLots': 122,\n",
       " 'MaxPrice': 72000000}"
      ]
     },
     "execution_count": 41,
     "metadata": {},
     "output_type": "execute_result"
    }
   ],
   "source": [
    "cleantop5002014[2]"
   ]
  },
  {
   "cell_type": "code",
   "execution_count": null,
   "metadata": {},
   "outputs": [],
   "source": []
  }
 ],
 "metadata": {
  "kernelspec": {
   "display_name": "Python 3",
   "language": "python",
   "name": "python3"
  },
  "language_info": {
   "codemirror_mode": {
    "name": "ipython",
    "version": 3
   },
   "file_extension": ".py",
   "mimetype": "text/x-python",
   "name": "python",
   "nbconvert_exporter": "python",
   "pygments_lexer": "ipython3",
   "version": "3.7.0"
  }
 },
 "nbformat": 4,
 "nbformat_minor": 2
}
