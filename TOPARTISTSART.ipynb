{
 "cells": [
  {
   "cell_type": "code",
   "execution_count": 1,
   "metadata": {},
   "outputs": [],
   "source": [
    "import requests\n",
    "from bs4 import BeautifulSoup"
   ]
  },
  {
   "cell_type": "code",
   "execution_count": 2,
   "metadata": {},
   "outputs": [],
   "source": [
    "def get_soup(url):\n",
    "        r = requests.get(url)\n",
    "        c = r.content\n",
    "        return BeautifulSoup(c, 'html.parser')"
   ]
  },
  {
   "cell_type": "code",
   "execution_count": 14,
   "metadata": {},
   "outputs": [],
   "source": [
    "# 2018 Top sales by artist w/overall sales and highest sale item\n",
    "soup = get_soup('https://www.artprice.com/artprice-reports/the-art-market-in-2017/ranking-of-the-top-500-artists-by-auction-turnover-in-2017/top-500-artists-1-to-50/')"
   ]
  },
  {
   "cell_type": "code",
   "execution_count": 15,
   "metadata": {},
   "outputs": [],
   "source": [
    "soup.find('div', {'class': 'wp-article-content'}).find('thead')"
   ]
  },
  {
   "cell_type": "code",
   "execution_count": 16,
   "metadata": {},
   "outputs": [
    {
     "data": {
      "text/plain": [
       "['Rank',\n",
       " 'Artist',\n",
       " 'Country of birth',\n",
       " 'Turnover ($)',\n",
       " 'Sold lots',\n",
       " 'Top Auction Result ($)',\n",
       " 'New record']"
      ]
     },
     "execution_count": 16,
     "metadata": {},
     "output_type": "execute_result"
    }
   ],
   "source": [
    "info_titles = [x.text for x in soup.find_all('th')]\n",
    "info_titles"
   ]
  },
  {
   "cell_type": "code",
   "execution_count": 17,
   "metadata": {},
   "outputs": [
    {
     "data": {
      "text/plain": [
       "<th>Rank</th>"
      ]
     },
     "execution_count": 17,
     "metadata": {},
     "output_type": "execute_result"
    }
   ],
   "source": [
    "soup.find('th')"
   ]
  },
  {
   "cell_type": "code",
   "execution_count": 22,
   "metadata": {},
   "outputs": [],
   "source": [
    "body_soup = soup.find('tbody')"
   ]
  },
  {
   "cell_type": "code",
   "execution_count": 19,
   "metadata": {},
   "outputs": [
    {
     "data": {
      "text/plain": [
       "51"
      ]
     },
     "execution_count": 19,
     "metadata": {},
     "output_type": "execute_result"
    }
   ],
   "source": [
    "artists_info_soup1 = body_soup.find_all('tr')[:-1]\n",
    "#artists by row\n",
    "len(artists_info_soup1)"
   ]
  },
  {
   "cell_type": "code",
   "execution_count": 20,
   "metadata": {},
   "outputs": [
    {
     "data": {
      "text/plain": [
       "{}"
      ]
     },
     "execution_count": 20,
     "metadata": {},
     "output_type": "execute_result"
    }
   ],
   "source": [
    "artist_info = artists_info_soup1[0].find_all('td')\n",
    "artist_dict = {}\n",
    "for i in range(len(artist_info)):\n",
    "    artist_dict[info_titles[i]] = artist_info[i].text\n",
    "artist_dict"
   ]
  },
  {
   "cell_type": "code",
   "execution_count": 23,
   "metadata": {},
   "outputs": [],
   "source": [
    "def get_50_artists_soup(start, end):\n",
    "    soup = get_soup(f'https://www.artprice.com/artprice-reports/the-art-market-in-2017/ranking-of-the-top-500-artists-by-auction-turnover-in-2017/top-500-artists-{start}-to-{end}/')\n",
    "    return soup.find('tbody').find_all('tr')[1:-1]\n",
    "\n",
    "# does dictionary thing\n",
    "def populate_artist_price_info_sales(to_populate, artist_soup, table_head):\n",
    "    for artist in artist_soup:\n",
    "        artist_info = artist.find_all('td')\n",
    "        artist_dict = {}\n",
    "        for i in range(len(artist_info)):\n",
    "            artist_dict[table_head[i]] = artist_info[i].text\n",
    "        artist_dict['SaleYear'] = 2017\n",
    "        to_populate.append(artist_dict)"
   ]
  },
  {
   "cell_type": "code",
   "execution_count": 24,
   "metadata": {},
   "outputs": [],
   "source": [
    "def run_through(table_head):\n",
    "    to_populate = []\n",
    "    for i in list(range(1,500,50)):\n",
    "        soup = get_50_artists_soup(i, i+49)\n",
    "        populate_artist_price_info_sales(to_populate, soup, table_head)\n",
    "    return to_populate"
   ]
  },
  {
   "cell_type": "code",
   "execution_count": 27,
   "metadata": {},
   "outputs": [
    {
     "ename": "IndexError",
     "evalue": "list index out of range",
     "output_type": "error",
     "traceback": [
      "\u001b[0;31m---------------------------------------------------------------------------\u001b[0m",
      "\u001b[0;31mIndexError\u001b[0m                                Traceback (most recent call last)",
      "\u001b[0;32m<ipython-input-27-fb94649fbaf1>\u001b[0m in \u001b[0;36m<module>\u001b[0;34m()\u001b[0m\n\u001b[1;32m      1\u001b[0m \u001b[0mlist_artists_2017\u001b[0m \u001b[0;34m=\u001b[0m \u001b[0;34m[\u001b[0m\u001b[0;34m]\u001b[0m\u001b[0;34m\u001b[0m\u001b[0m\n\u001b[0;32m----> 2\u001b[0;31m \u001b[0mrun_through\u001b[0m\u001b[0;34m(\u001b[0m\u001b[0mlist_artists_2017\u001b[0m\u001b[0;34m)\u001b[0m\u001b[0;34m\u001b[0m\u001b[0m\n\u001b[0m\u001b[1;32m      3\u001b[0m \u001b[0mlist_artists_2017\u001b[0m\u001b[0;34m[\u001b[0m\u001b[0;36m4\u001b[0m\u001b[0;34m]\u001b[0m\u001b[0;34m\u001b[0m\u001b[0m\n",
      "\u001b[0;32m<ipython-input-24-5947d6f131dc>\u001b[0m in \u001b[0;36mrun_through\u001b[0;34m(table_head)\u001b[0m\n\u001b[1;32m      3\u001b[0m     \u001b[0;32mfor\u001b[0m \u001b[0mi\u001b[0m \u001b[0;32min\u001b[0m \u001b[0mlist\u001b[0m\u001b[0;34m(\u001b[0m\u001b[0mrange\u001b[0m\u001b[0;34m(\u001b[0m\u001b[0;36m1\u001b[0m\u001b[0;34m,\u001b[0m\u001b[0;36m500\u001b[0m\u001b[0;34m,\u001b[0m\u001b[0;36m50\u001b[0m\u001b[0;34m)\u001b[0m\u001b[0;34m)\u001b[0m\u001b[0;34m:\u001b[0m\u001b[0;34m\u001b[0m\u001b[0m\n\u001b[1;32m      4\u001b[0m         \u001b[0msoup\u001b[0m \u001b[0;34m=\u001b[0m \u001b[0mget_50_artists_soup\u001b[0m\u001b[0;34m(\u001b[0m\u001b[0mi\u001b[0m\u001b[0;34m,\u001b[0m \u001b[0mi\u001b[0m\u001b[0;34m+\u001b[0m\u001b[0;36m49\u001b[0m\u001b[0;34m)\u001b[0m\u001b[0;34m\u001b[0m\u001b[0m\n\u001b[0;32m----> 5\u001b[0;31m         \u001b[0mpopulate_artist_price_info_sales\u001b[0m\u001b[0;34m(\u001b[0m\u001b[0mto_populate\u001b[0m\u001b[0;34m,\u001b[0m \u001b[0msoup\u001b[0m\u001b[0;34m,\u001b[0m \u001b[0mtable_head\u001b[0m\u001b[0;34m)\u001b[0m\u001b[0;34m\u001b[0m\u001b[0m\n\u001b[0m\u001b[1;32m      6\u001b[0m     \u001b[0;32mreturn\u001b[0m \u001b[0mto_populate\u001b[0m\u001b[0;34m\u001b[0m\u001b[0m\n",
      "\u001b[0;32m<ipython-input-23-db2791785c1f>\u001b[0m in \u001b[0;36mpopulate_artist_price_info_sales\u001b[0;34m(to_populate, artist_soup, table_head)\u001b[0m\n\u001b[1;32m      9\u001b[0m         \u001b[0martist_dict\u001b[0m \u001b[0;34m=\u001b[0m \u001b[0;34m{\u001b[0m\u001b[0;34m}\u001b[0m\u001b[0;34m\u001b[0m\u001b[0m\n\u001b[1;32m     10\u001b[0m         \u001b[0;32mfor\u001b[0m \u001b[0mi\u001b[0m \u001b[0;32min\u001b[0m \u001b[0mrange\u001b[0m\u001b[0;34m(\u001b[0m\u001b[0mlen\u001b[0m\u001b[0;34m(\u001b[0m\u001b[0martist_info\u001b[0m\u001b[0;34m)\u001b[0m\u001b[0;34m)\u001b[0m\u001b[0;34m:\u001b[0m\u001b[0;34m\u001b[0m\u001b[0m\n\u001b[0;32m---> 11\u001b[0;31m             \u001b[0martist_dict\u001b[0m\u001b[0;34m[\u001b[0m\u001b[0mtable_head\u001b[0m\u001b[0;34m[\u001b[0m\u001b[0mi\u001b[0m\u001b[0;34m]\u001b[0m\u001b[0;34m]\u001b[0m \u001b[0;34m=\u001b[0m \u001b[0martist_info\u001b[0m\u001b[0;34m[\u001b[0m\u001b[0mi\u001b[0m\u001b[0;34m]\u001b[0m\u001b[0;34m.\u001b[0m\u001b[0mtext\u001b[0m\u001b[0;34m\u001b[0m\u001b[0m\n\u001b[0m\u001b[1;32m     12\u001b[0m         \u001b[0martist_dict\u001b[0m\u001b[0;34m[\u001b[0m\u001b[0;34m'SaleYear'\u001b[0m\u001b[0;34m]\u001b[0m \u001b[0;34m=\u001b[0m \u001b[0;36m2017\u001b[0m\u001b[0;34m\u001b[0m\u001b[0m\n\u001b[1;32m     13\u001b[0m         \u001b[0mto_populate\u001b[0m\u001b[0;34m.\u001b[0m\u001b[0mappend\u001b[0m\u001b[0;34m(\u001b[0m\u001b[0martist_dict\u001b[0m\u001b[0;34m)\u001b[0m\u001b[0;34m\u001b[0m\u001b[0m\n",
      "\u001b[0;31mIndexError\u001b[0m: list index out of range"
     ]
    }
   ],
   "source": [
    "list_artists_2017 = []\n",
    "run_through(list_artists_2017)\n",
    "list_artists_2017[4]"
   ]
  },
  {
   "cell_type": "code",
   "execution_count": 164,
   "metadata": {},
   "outputs": [],
   "source": [
    "# x = f\"https://www.artprice.com/artprice-reports/the-art-market-in-2016/top-500-artists-by-auction-revenue-2016/top-500-{start}-to-{end}/\"\n",
    "run_through(list_artists_2016)"
   ]
  },
  {
   "cell_type": "code",
   "execution_count": 128,
   "metadata": {},
   "outputs": [],
   "source": [
    "import re"
   ]
  },
  {
   "cell_type": "code",
   "execution_count": 129,
   "metadata": {},
   "outputs": [],
   "source": [
    "def clean_list(list_artist):\n",
    "    for artist in list_artist:\n",
    "        artist['Rank'] = int(re.sub(\"[^0-9]\", \"\", artist['Rank']))\n",
    "        artist['Turnover ($)'] = int(re.sub(\"[^0-9]\", \"\", artist['Turnover ($)']))\n",
    "        artist['Sold lots'] = int(re.sub(\"[^0-9]\", \"\", artist['Sold lots']))\n",
    "        artist['Top Auction Result ($)'] = int(re.sub(\"[^0-9]\", \"\", artist['Top Auction Result ($)']))"
   ]
  },
  {
   "cell_type": "code",
   "execution_count": 165,
   "metadata": {},
   "outputs": [
    {
     "data": {
      "text/plain": [
       "[{'Rank': '1',\n",
       "  'Artist': 'ZHANG Daqian (1899-1983)',\n",
       "  'Auction turnover': '354,813,562',\n",
       "  'Sold lots': '885',\n",
       "  'Highest Price': '34,917,720'},\n",
       " {'Rank': '2',\n",
       "  'Artist': 'PICASSO Pablo (1881-1973)',\n",
       "  'Auction turnover': '323,642,744',\n",
       "  'Sold lots': '3,075',\n",
       "  'Highest Price': '63,220,336'},\n",
       " {'Rank': '3',\n",
       "  'Artist': 'QI Baishi (1864-1957)',\n",
       "  'Auction turnover': '230,082,436',\n",
       "  'Sold lots': '711',\n",
       "  'Highest Price': '28,386,600'},\n",
       " {'Rank': '4',\n",
       "  'Artist': 'WU Guanzhong (1919-2010)',\n",
       "  'Auction turnover': '197,341,070',\n",
       "  'Sold lots': '189',\n",
       "  'Highest Price': '30,444,000'},\n",
       " {'Rank': '5',\n",
       "  'Artist': 'RICHTER Gerhard (b. 1932)',\n",
       "  'Auction turnover': '189,511,141',\n",
       "  'Sold lots': '325',\n",
       "  'Highest Price': '33,987,500'}]"
      ]
     },
     "execution_count": 165,
     "metadata": {},
     "output_type": "execute_result"
    }
   ],
   "source": [
    "list_artists_2016[:5]"
   ]
  },
  {
   "cell_type": "code",
   "execution_count": null,
   "metadata": {},
   "outputs": [],
   "source": []
  }
 ],
 "metadata": {
  "kernelspec": {
   "display_name": "Python 3",
   "language": "python",
   "name": "python3"
  },
  "language_info": {
   "codemirror_mode": {
    "name": "ipython",
    "version": 3
   },
   "file_extension": ".py",
   "mimetype": "text/x-python",
   "name": "python",
   "nbconvert_exporter": "python",
   "pygments_lexer": "ipython3",
   "version": "3.7.0"
  }
 },
 "nbformat": 4,
 "nbformat_minor": 2
}
