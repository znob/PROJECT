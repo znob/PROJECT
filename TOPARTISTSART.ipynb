{
 "cells": [
  {
   "cell_type": "code",
   "execution_count": 1,
   "metadata": {},
   "outputs": [],
   "source": [
    "import requests\n",
    "from bs4 import BeautifulSoup"
   ]
  },
  {
   "cell_type": "code",
   "execution_count": 3,
   "metadata": {},
   "outputs": [],
   "source": [
    "def get_soup(url):\n",
    "        r = requests.get(url)\n",
    "        c = r.content\n",
    "        return BeautifulSoup(c, 'html.parser')"
   ]
  },
  {
   "cell_type": "code",
   "execution_count": 151,
   "metadata": {},
   "outputs": [],
   "source": [
    "# 2018 Top sales by artist w/overall sales and highest sale item\n",
    "soup = get_soup('https://www.artprice.com/artprice-reports/the-art-market-in-2016/top-500-artists-by-auction-revenue-2016/top-500-1-to-50/')"
   ]
  },
  {
   "cell_type": "code",
   "execution_count": 152,
   "metadata": {},
   "outputs": [
    {
     "data": {
      "text/plain": [
       "<thead>\n",
       "<tr>\n",
       "<th align=\"left\" style=\"text-align: center\"><b>Rank</b></th>\n",
       "<th align=\"center\"><b>Artist</b></th>\n",
       "<th align=\"center\"><b>Auction turnover</b></th>\n",
       "<th align=\"center\"><b>Sold lots</b></th>\n",
       "<th align=\"center\">Highest Price</th>\n",
       "</tr>\n",
       "</thead>"
      ]
     },
     "execution_count": 152,
     "metadata": {},
     "output_type": "execute_result"
    }
   ],
   "source": [
    "soup.find('div', {'class': 'wp-article-content'}).find('thead')"
   ]
  },
  {
   "cell_type": "code",
   "execution_count": 154,
   "metadata": {},
   "outputs": [
    {
     "data": {
      "text/plain": [
       "['Rank', 'Artist', 'Auction turnover', 'Sold lots', 'Highest Price']"
      ]
     },
     "execution_count": 154,
     "metadata": {},
     "output_type": "execute_result"
    }
   ],
   "source": [
    "info_titles = [x.text for x in soup.find_all('th')]\n",
    "info_titles"
   ]
  },
  {
   "cell_type": "code",
   "execution_count": 97,
   "metadata": {},
   "outputs": [
    {
     "data": {
      "text/plain": [
       "<th>Rank</th>"
      ]
     },
     "execution_count": 97,
     "metadata": {},
     "output_type": "execute_result"
    }
   ],
   "source": [
    "soup.find('th')"
   ]
  },
  {
   "cell_type": "code",
   "execution_count": 98,
   "metadata": {},
   "outputs": [],
   "source": [
    "body_soup = soup.find('tbody')"
   ]
  },
  {
   "cell_type": "code",
   "execution_count": 120,
   "metadata": {},
   "outputs": [
    {
     "data": {
      "text/plain": [
       "50"
      ]
     },
     "execution_count": 120,
     "metadata": {},
     "output_type": "execute_result"
    }
   ],
   "source": [
    "artists_info_soup1 = body_soup.find_all('tr')[:-1]\n",
    "#artists by row\n",
    "len(artists_info_soup1)"
   ]
  },
  {
   "cell_type": "code",
   "execution_count": 123,
   "metadata": {},
   "outputs": [
    {
     "data": {
      "text/plain": [
       "{'Rank': '1',\n",
       " 'Artist': 'Leonardo da VINCI (1452-1519)',\n",
       " 'Country of birth': 'Italy',\n",
       " 'Turnover ($)': '450,312,500',\n",
       " 'Sold lots': '1',\n",
       " 'Top Auction Result ($)': '450,312,500',\n",
       " 'New record': '*'}"
      ]
     },
     "execution_count": 123,
     "metadata": {},
     "output_type": "execute_result"
    }
   ],
   "source": [
    "artist_info = artists_info_soup1[0].find_all('td')\n",
    "artist_dict = {}\n",
    "for i in range(len(artist_info)):\n",
    "    artist_dict[info_titles[i]] = artist_info[i].text\n",
    "artist_dict"
   ]
  },
  {
   "cell_type": "code",
   "execution_count": 162,
   "metadata": {},
   "outputs": [],
   "source": [
    "#Gets info from soup and parses it out into a dictionary.\n",
    "# url2017 = f'https://www.artprice.com/artprice-reports/the-art-market-in-2017/ranking-of-the-top-500-artists-by-auction-turnover-in-2017/top-500-artists-{start}-to-{end}/'\n",
    "list_artists_2017 = []\n",
    "list_artists_2016 = []\n",
    "#goes by 50...1-50, 51-100, takes year statement\n",
    "def get_50_artists_soup(start, end):\n",
    "    soup = get_soup(f\"https://www.artprice.com/artprice-reports/the-art-market-in-2016/top-500-artists-by-auction-revenue-2016/top-500-{start}-to-{end}/\")\n",
    "    return soup.find('tbody').find_all('tr')[:-1]\n",
    "\n",
    "# does dictionary thing\n",
    "def populate_artist_price_info_sales(to_populate, artist_soup):\n",
    "    for artist in artist_soup:\n",
    "        artist_info = artist.find_all('td')\n",
    "        artist_dict = {}\n",
    "        for i in range(len(artist_info)):\n",
    "            artist_dict[info_titles[i]] = artist_info[i].text\n",
    "        to_populate.append(artist_dict)"
   ]
  },
  {
   "cell_type": "code",
   "execution_count": 163,
   "metadata": {},
   "outputs": [],
   "source": [
    "def run_through(to_populate):\n",
    "    for i in list(range(1,500,50)):\n",
    "        soup = get_50_artists_soup(i, i+49)\n",
    "        populate_artist_price_info_sales(to_populate, soup)\n"
   ]
  },
  {
   "cell_type": "code",
   "execution_count": 126,
   "metadata": {},
   "outputs": [],
   "source": [
    "run_through(list_artists_2017)"
   ]
  },
  {
   "cell_type": "code",
   "execution_count": 164,
   "metadata": {},
   "outputs": [],
   "source": [
    "# x = f\"https://www.artprice.com/artprice-reports/the-art-market-in-2016/top-500-artists-by-auction-revenue-2016/top-500-{start}-to-{end}/\"\n",
    "run_through(list_artists_2016)"
   ]
  },
  {
   "cell_type": "code",
   "execution_count": 128,
   "metadata": {},
   "outputs": [],
   "source": [
    "import re"
   ]
  },
  {
   "cell_type": "code",
   "execution_count": 129,
   "metadata": {},
   "outputs": [],
   "source": [
    "def clean_list(list_artist):\n",
    "    for artist in list_artist:\n",
    "        artist['Rank'] = int(re.sub(\"[^0-9]\", \"\", artist['Rank']))\n",
    "        artist['Turnover ($)'] = int(re.sub(\"[^0-9]\", \"\", artist['Turnover ($)']))\n",
    "        artist['Sold lots'] = int(re.sub(\"[^0-9]\", \"\", artist['Sold lots']))\n",
    "        artist['Top Auction Result ($)'] = int(re.sub(\"[^0-9]\", \"\", artist['Top Auction Result ($)']))"
   ]
  },
  {
   "cell_type": "code",
   "execution_count": 165,
   "metadata": {},
   "outputs": [
    {
     "data": {
      "text/plain": [
       "[{'Rank': '1',\n",
       "  'Artist': 'ZHANG Daqian (1899-1983)',\n",
       "  'Auction turnover': '354,813,562',\n",
       "  'Sold lots': '885',\n",
       "  'Highest Price': '34,917,720'},\n",
       " {'Rank': '2',\n",
       "  'Artist': 'PICASSO Pablo (1881-1973)',\n",
       "  'Auction turnover': '323,642,744',\n",
       "  'Sold lots': '3,075',\n",
       "  'Highest Price': '63,220,336'},\n",
       " {'Rank': '3',\n",
       "  'Artist': 'QI Baishi (1864-1957)',\n",
       "  'Auction turnover': '230,082,436',\n",
       "  'Sold lots': '711',\n",
       "  'Highest Price': '28,386,600'},\n",
       " {'Rank': '4',\n",
       "  'Artist': 'WU Guanzhong (1919-2010)',\n",
       "  'Auction turnover': '197,341,070',\n",
       "  'Sold lots': '189',\n",
       "  'Highest Price': '30,444,000'},\n",
       " {'Rank': '5',\n",
       "  'Artist': 'RICHTER Gerhard (b. 1932)',\n",
       "  'Auction turnover': '189,511,141',\n",
       "  'Sold lots': '325',\n",
       "  'Highest Price': '33,987,500'}]"
      ]
     },
     "execution_count": 165,
     "metadata": {},
     "output_type": "execute_result"
    }
   ],
   "source": [
    "list_artists_2016[:5]"
   ]
  },
  {
   "cell_type": "code",
   "execution_count": null,
   "metadata": {},
   "outputs": [],
   "source": []
  }
 ],
 "metadata": {
  "kernelspec": {
   "display_name": "Python 3",
   "language": "python",
   "name": "python3"
  },
  "language_info": {
   "codemirror_mode": {
    "name": "ipython",
    "version": 3
   },
   "file_extension": ".py",
   "mimetype": "text/x-python",
   "name": "python",
   "nbconvert_exporter": "python",
   "pygments_lexer": "ipython3",
   "version": "3.7.0"
  }
 },
 "nbformat": 4,
 "nbformat_minor": 2
}
