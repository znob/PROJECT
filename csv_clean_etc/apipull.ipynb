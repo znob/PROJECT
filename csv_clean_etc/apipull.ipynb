{
 "cells": [
  {
   "cell_type": "code",
   "execution_count": 7,
   "metadata": {},
   "outputs": [
    {
     "ename": "NameError",
     "evalue": "name 'for_token' is not defined",
     "output_type": "error",
     "traceback": [
      "\u001b[0;31m---------------------------------------------------------------------------\u001b[0m",
      "\u001b[0;31mNameError\u001b[0m                                 Traceback (most recent call last)",
      "\u001b[0;32m<ipython-input-7-1c0c87fc09f7>\u001b[0m in \u001b[0;36m<module>\u001b[0;34m()\u001b[0m\n\u001b[1;32m      8\u001b[0m                       data={'client_id': client_id, 'client_secret': client_secret})\n\u001b[1;32m      9\u001b[0m \u001b[0;34m\u001b[0m\u001b[0m\n\u001b[0;32m---> 10\u001b[0;31m \u001b[0mtoken_text\u001b[0m \u001b[0;34m=\u001b[0m \u001b[0mjson\u001b[0m\u001b[0;34m.\u001b[0m\u001b[0mloads\u001b[0m\u001b[0;34m(\u001b[0m\u001b[0mfor_token\u001b[0m\u001b[0;34m.\u001b[0m\u001b[0mtext\u001b[0m\u001b[0;34m)\u001b[0m\u001b[0;34m\u001b[0m\u001b[0m\n\u001b[0m\u001b[1;32m     11\u001b[0m \u001b[0;34m\u001b[0m\u001b[0m\n\u001b[1;32m     12\u001b[0m \u001b[0mtoken\u001b[0m \u001b[0;34m=\u001b[0m \u001b[0mtoken_text\u001b[0m\u001b[0;34m[\u001b[0m\u001b[0;34m'token'\u001b[0m\u001b[0;34m]\u001b[0m\u001b[0;34m\u001b[0m\u001b[0m\n",
      "\u001b[0;31mNameError\u001b[0m: name 'for_token' is not defined"
     ]
    }
   ],
   "source": [
    "import requests\n",
    "import json\n",
    "\n",
    "client_id = '12c232c9514a6d342878'\n",
    "client_secret = '5cda60eedbc43c586621c30d6d19210e'\n",
    "\n",
    "r = requests.post('https://api.artsy.net/api/tokens/xapp_token',\n",
    "                      data={'client_id': client_id, 'client_secret': client_secret})\n",
    "\n",
    "token_text = json.loads(for_token.text)\n",
    "\n",
    "token = token_text['token']\n",
    "\n",
    "headers = {'X-Xapp-Token': token}\n",
    "\n",
    "list_answer = {}\n",
    "artists = 'Andy-Warhol'\n",
    "\n",
    "api_url='https://api.artsy.net/api/artists/'+artists.lower()\n",
    "res = requests.get(api_url, headers=headers)\n",
    "res.encoding = 'utf-8'\n",
    "\n",
    "# with open ('dataset_24476_4.txt') as f:\n",
    "#     for i in f:\n",
    "#         id_artist = i.strip()\n",
    "\n",
    "#         api_url = 'https://api.artsy.net/api/artists/'+id_artist\n",
    "#         res = requests.get(api_url, headers=headers)\n",
    "#         res.encoding = 'utf-8'\n",
    "\n",
    "#         answer = res.json()\n",
    "\n",
    "#         list_answer[answer['birthday']] = answer['sortable_name']\n",
    "\n",
    "# with open ('text1.txt', 'w', encoding='utf-8') as f1:\n",
    "#     for k, v in sorted(list_answer.items()):\n",
    "#         f1.write(\"{}\\n\".format(v))  "
   ]
  },
  {
   "cell_type": "code",
   "execution_count": 2,
   "metadata": {},
   "outputs": [
    {
     "ename": "NameError",
     "evalue": "name 'res' is not defined",
     "output_type": "error",
     "traceback": [
      "\u001b[0;31m---------------------------------------------------------------------------\u001b[0m",
      "\u001b[0;31mNameError\u001b[0m                                 Traceback (most recent call last)",
      "\u001b[0;32m<ipython-input-2-5990537c6b86>\u001b[0m in \u001b[0;36m<module>\u001b[0;34m()\u001b[0m\n\u001b[0;32m----> 1\u001b[0;31m \u001b[0mres\u001b[0m\u001b[0;34m.\u001b[0m\u001b[0mjson\u001b[0m\u001b[0;34m(\u001b[0m\u001b[0;34m)\u001b[0m\u001b[0;34m\u001b[0m\u001b[0m\n\u001b[0m",
      "\u001b[0;31mNameError\u001b[0m: name 'res' is not defined"
     ]
    }
   ],
   "source": [
    "res.json()"
   ]
  },
  {
   "cell_type": "code",
   "execution_count": 46,
   "metadata": {},
   "outputs": [
    {
     "data": {
      "text/plain": [
       "'Pittsburgh, PA, United States'"
      ]
     },
     "execution_count": 46,
     "metadata": {},
     "output_type": "execute_result"
    }
   ],
   "source": [
    "res.json()['hometown']"
   ]
  },
  {
   "cell_type": "code",
   "execution_count": 28,
   "metadata": {},
   "outputs": [],
   "source": [
    "genes = requests.get(res.json()['_links']['genes']['href'], headers=headers)\n",
    "genes.encoding = 'utf-8'"
   ]
  },
  {
   "cell_type": "code",
   "execution_count": 38,
   "metadata": {},
   "outputs": [
    {
     "data": {
      "text/plain": [
       "{'total_count': None,\n",
       " '_links': {'self': {'href': 'https://api.artsy.net/api/genes?artist_id=4d8b92b34eb68a1b2c0003f4'},\n",
       "  'next': {'href': 'https://api.artsy.net/api/genes?artist_id=4d8b92b34eb68a1b2c0003f4&cursor=Americana%3A4dc7eb8432e67b0001000127'}},\n",
       " '_embedded': {'genes': [{'id': '56539404ebad647f5493ac0f',\n",
       "    'created_at': '2015-11-23T22:32:36+00:00',\n",
       "    'updated_at': '2018-11-13T01:49:01+00:00',\n",
       "    'name': '1860–1969',\n",
       "    'display_name': 'Modern',\n",
       "    'description': 'All art, design, decorative art, and architecture produced from roughly 1860 to 1970.',\n",
       "    'image_versions': ['big_and_tall', 'square500', 'tall', 'thumb'],\n",
       "    '_links': {'thumbnail': {'href': 'https://d32dm0rphc51dk.cloudfront.net/g8JGq-WMlTai9Sb4xP60PQ/big_and_tall.jpg'},\n",
       "     'image': {'href': 'https://d32dm0rphc51dk.cloudfront.net/g8JGq-WMlTai9Sb4xP60PQ/{image_version}.jpg',\n",
       "      'templated': True},\n",
       "     'self': {'href': 'https://api.artsy.net/api/genes/56539404ebad647f5493ac0f'},\n",
       "     'permalink': {'href': 'http://www.artsy.net/gene/1860-1969'},\n",
       "     'artworks': {'href': 'https://api.artsy.net/api/artworks?gene_id=56539404ebad647f5493ac0f'},\n",
       "     'published_artworks': {'href': 'https://api.artsy.net/api/artworks?artist_id=56539404ebad647f5493ac0f&published=true'},\n",
       "     'artists': {'href': 'https://api.artsy.net/api/artists?gene_id=56539404ebad647f5493ac0f'}}},\n",
       "   {'id': '51b661ae275b24d15b000047',\n",
       "    'created_at': '2013-06-10T23:30:54+00:00',\n",
       "    'updated_at': '2018-11-12T21:13:45+00:00',\n",
       "    'name': '1960s',\n",
       "    'display_name': 'Art of the 1960s',\n",
       "    'description': 'One of the most significant decades in 20th-century art, the 1960s saw the rise of [Pop Art](/gene/pop-art), [Op Art](/gene/op-art), [Minimalism](/gene/minimalism), [Conceptual Art](/gene/conceptual-art), [Performance Art](/gene/performance-art), and [Feminist Art](/gene/feminist-art), among countless other styles and movements. Among the leading artists of the period—many of whom continue to influence contemporary artists today—are [Andy Warhol](/artist/andy-warhol), [Bridget Riley](/artist/bridget-riley), [Donald Judd](/artist/donald-judd), [Robert Morris](/artist/robert-morris), [Sol LeWitt](/artist/sol-lewitt), [Vito Acconci](/artist/vito-acconci), and [Judy Chicago](/artist/judy-chicago).',\n",
       "    'image_versions': ['big_and_tall', 'square500', 'tall', 'thumb'],\n",
       "    '_links': {'thumbnail': {'href': 'https://d32dm0rphc51dk.cloudfront.net/x58nFWvLKxL59Mu3AC_gkg/big_and_tall.jpg'},\n",
       "     'image': {'href': 'https://d32dm0rphc51dk.cloudfront.net/x58nFWvLKxL59Mu3AC_gkg/{image_version}.jpg',\n",
       "      'templated': True},\n",
       "     'self': {'href': 'https://api.artsy.net/api/genes/51b661ae275b24d15b000047'},\n",
       "     'permalink': {'href': 'http://www.artsy.net/gene/1960s'},\n",
       "     'artworks': {'href': 'https://api.artsy.net/api/artworks?gene_id=51b661ae275b24d15b000047'},\n",
       "     'published_artworks': {'href': 'https://api.artsy.net/api/artworks?artist_id=51b661ae275b24d15b000047&published=true'},\n",
       "     'artists': {'href': 'https://api.artsy.net/api/artists?gene_id=51b661ae275b24d15b000047'}}},\n",
       "   {'id': '4d90d18fdcdd5f44a5000025',\n",
       "    'created_at': None,\n",
       "    'updated_at': '2018-11-13T02:28:33+00:00',\n",
       "    'name': '1970–present',\n",
       "    'display_name': 'Contemporary',\n",
       "    'description': 'Contemporary art refers to work made by living artists.  By this definition, all art has been contemporary at the moment of its creation.  However, the art world often narrowly limits the use of this term to artwork made after 1970 as a successor to [modern art](/gene/modern-1).  Distinguished by a lack of medium specificity and ideological “-isms,” contemporary art reflects the diversity of our current culture and society.  Today’s artists are responding to complex concepts such as [identity politics](/gene/identity-politics-1), [institutional critique](/institutional-critique), and [globalization](/gene/globalization), often through artwork with challenging aesthetics.  Defying the status quo, contemporaries like [Tania Bruguera](/artist/tania-bruguera), [Kara Walker](/artist/kara-walker), and [Ai Weiwei](/artist/ai-weiwei) are forging paths for [emerging talents](/gene/emerging-art) and future provocateurs.',\n",
       "    'image_versions': ['big_and_tall', 'square500', 'tall', 'thumb'],\n",
       "    '_links': {'thumbnail': {'href': 'https://d32dm0rphc51dk.cloudfront.net/ei_qOKiYT9PPwl5Jm6H8Xw/big_and_tall.jpg'},\n",
       "     'image': {'href': 'https://d32dm0rphc51dk.cloudfront.net/ei_qOKiYT9PPwl5Jm6H8Xw/{image_version}.jpg',\n",
       "      'templated': True},\n",
       "     'self': {'href': 'https://api.artsy.net/api/genes/4d90d18fdcdd5f44a5000025'},\n",
       "     'permalink': {'href': 'http://www.artsy.net/gene/1970-present'},\n",
       "     'artworks': {'href': 'https://api.artsy.net/api/artworks?gene_id=4d90d18fdcdd5f44a5000025'},\n",
       "     'published_artworks': {'href': 'https://api.artsy.net/api/artworks?artist_id=4d90d18fdcdd5f44a5000025&published=true'},\n",
       "     'artists': {'href': 'https://api.artsy.net/api/artists?gene_id=4d90d18fdcdd5f44a5000025'}}},\n",
       "   {'id': '4f3eba372ee99a0001000665',\n",
       "    'created_at': '2012-02-17T20:36:07+00:00',\n",
       "    'updated_at': '2018-11-11T08:55:06+00:00',\n",
       "    'name': 'Advertising and Brands',\n",
       "    'display_name': None,\n",
       "    'description': 'Artworks that feature advertisements and logos. [Andy Warhol](/artist/andy-warhol) is most often associated with this practice. His [Pop Art](/gene/pop-art) paintings featuring Campbell’s soup cans and Coca-Cola bottles are icons of contemporary art history. While Pop Art is most often credited with introducing these types of visuals into art history—and moreover, making them the primary feature of an artwork—the practice dates back to [cubist](/gene/cubism) [collage](/gene/collage) in the 1910s. [Pablo Picasso](/artist/pablo-picasso) and [George Braque’s](/artist/georges-braque) papier-collé works commonly included newspaper advertisements. Today, [street artists](/gene/graffiti-slash-street-art) commonly use corporate logos in their work to criticize corporate practices and globalization.',\n",
       "    'image_versions': ['big_and_tall', 'square500', 'tall', 'thumb'],\n",
       "    '_links': {'thumbnail': {'href': 'https://d32dm0rphc51dk.cloudfront.net/jki8jRj3XCMS70bJqN5D2Q/big_and_tall.jpg'},\n",
       "     'image': {'href': 'https://d32dm0rphc51dk.cloudfront.net/jki8jRj3XCMS70bJqN5D2Q/{image_version}.jpg',\n",
       "      'templated': True},\n",
       "     'self': {'href': 'https://api.artsy.net/api/genes/4f3eba372ee99a0001000665'},\n",
       "     'permalink': {'href': 'http://www.artsy.net/gene/advertising-and-brands'},\n",
       "     'artworks': {'href': 'https://api.artsy.net/api/artworks?gene_id=4f3eba372ee99a0001000665'},\n",
       "     'published_artworks': {'href': 'https://api.artsy.net/api/artworks?artist_id=4f3eba372ee99a0001000665&published=true'},\n",
       "     'artists': {'href': 'https://api.artsy.net/api/artists?gene_id=4f3eba372ee99a0001000665'}}},\n",
       "   {'id': '4dc7eb8432e67b0001000127',\n",
       "    'created_at': '2011-05-09T13:26:28+00:00',\n",
       "    'updated_at': '2018-11-12T08:55:00+00:00',\n",
       "    'name': 'Americana',\n",
       "    'display_name': None,\n",
       "    'description': 'Artworks featuring objects or imagery associated with the United States, its history, and its culture, from Westerns and apple pie to World War II and the American flag. More often than not, artists have used Americana less to promote the values of America than as a means for cultural criticism.',\n",
       "    'image_versions': ['big_and_tall', 'square500', 'tall', 'thumb'],\n",
       "    '_links': {'thumbnail': {'href': 'https://d32dm0rphc51dk.cloudfront.net/QWqfxjdklRIyafVgLzkVJg/big_and_tall.jpg'},\n",
       "     'image': {'href': 'https://d32dm0rphc51dk.cloudfront.net/QWqfxjdklRIyafVgLzkVJg/{image_version}.jpg',\n",
       "      'templated': True},\n",
       "     'self': {'href': 'https://api.artsy.net/api/genes/4dc7eb8432e67b0001000127'},\n",
       "     'permalink': {'href': 'http://www.artsy.net/gene/americana'},\n",
       "     'artworks': {'href': 'https://api.artsy.net/api/artworks?gene_id=4dc7eb8432e67b0001000127'},\n",
       "     'published_artworks': {'href': 'https://api.artsy.net/api/artworks?artist_id=4dc7eb8432e67b0001000127&published=true'},\n",
       "     'artists': {'href': 'https://api.artsy.net/api/artists?gene_id=4dc7eb8432e67b0001000127'}}}]}}"
      ]
     },
     "execution_count": 38,
     "metadata": {},
     "output_type": "execute_result"
    }
   ],
   "source": [
    "genes.json()"
   ]
  },
  {
   "cell_type": "code",
   "execution_count": 40,
   "metadata": {},
   "outputs": [
    {
     "data": {
      "text/plain": [
       "[{'id': '56539404ebad647f5493ac0f',\n",
       "  'created_at': '2015-11-23T22:32:36+00:00',\n",
       "  'updated_at': '2018-11-13T01:49:01+00:00',\n",
       "  'name': '1860–1969',\n",
       "  'display_name': 'Modern',\n",
       "  'description': 'All art, design, decorative art, and architecture produced from roughly 1860 to 1970.',\n",
       "  'image_versions': ['big_and_tall', 'square500', 'tall', 'thumb'],\n",
       "  '_links': {'thumbnail': {'href': 'https://d32dm0rphc51dk.cloudfront.net/g8JGq-WMlTai9Sb4xP60PQ/big_and_tall.jpg'},\n",
       "   'image': {'href': 'https://d32dm0rphc51dk.cloudfront.net/g8JGq-WMlTai9Sb4xP60PQ/{image_version}.jpg',\n",
       "    'templated': True},\n",
       "   'self': {'href': 'https://api.artsy.net/api/genes/56539404ebad647f5493ac0f'},\n",
       "   'permalink': {'href': 'http://www.artsy.net/gene/1860-1969'},\n",
       "   'artworks': {'href': 'https://api.artsy.net/api/artworks?gene_id=56539404ebad647f5493ac0f'},\n",
       "   'published_artworks': {'href': 'https://api.artsy.net/api/artworks?artist_id=56539404ebad647f5493ac0f&published=true'},\n",
       "   'artists': {'href': 'https://api.artsy.net/api/artists?gene_id=56539404ebad647f5493ac0f'}}},\n",
       " {'id': '51b661ae275b24d15b000047',\n",
       "  'created_at': '2013-06-10T23:30:54+00:00',\n",
       "  'updated_at': '2018-11-12T21:13:45+00:00',\n",
       "  'name': '1960s',\n",
       "  'display_name': 'Art of the 1960s',\n",
       "  'description': 'One of the most significant decades in 20th-century art, the 1960s saw the rise of [Pop Art](/gene/pop-art), [Op Art](/gene/op-art), [Minimalism](/gene/minimalism), [Conceptual Art](/gene/conceptual-art), [Performance Art](/gene/performance-art), and [Feminist Art](/gene/feminist-art), among countless other styles and movements. Among the leading artists of the period—many of whom continue to influence contemporary artists today—are [Andy Warhol](/artist/andy-warhol), [Bridget Riley](/artist/bridget-riley), [Donald Judd](/artist/donald-judd), [Robert Morris](/artist/robert-morris), [Sol LeWitt](/artist/sol-lewitt), [Vito Acconci](/artist/vito-acconci), and [Judy Chicago](/artist/judy-chicago).',\n",
       "  'image_versions': ['big_and_tall', 'square500', 'tall', 'thumb'],\n",
       "  '_links': {'thumbnail': {'href': 'https://d32dm0rphc51dk.cloudfront.net/x58nFWvLKxL59Mu3AC_gkg/big_and_tall.jpg'},\n",
       "   'image': {'href': 'https://d32dm0rphc51dk.cloudfront.net/x58nFWvLKxL59Mu3AC_gkg/{image_version}.jpg',\n",
       "    'templated': True},\n",
       "   'self': {'href': 'https://api.artsy.net/api/genes/51b661ae275b24d15b000047'},\n",
       "   'permalink': {'href': 'http://www.artsy.net/gene/1960s'},\n",
       "   'artworks': {'href': 'https://api.artsy.net/api/artworks?gene_id=51b661ae275b24d15b000047'},\n",
       "   'published_artworks': {'href': 'https://api.artsy.net/api/artworks?artist_id=51b661ae275b24d15b000047&published=true'},\n",
       "   'artists': {'href': 'https://api.artsy.net/api/artists?gene_id=51b661ae275b24d15b000047'}}},\n",
       " {'id': '4d90d18fdcdd5f44a5000025',\n",
       "  'created_at': None,\n",
       "  'updated_at': '2018-11-13T02:28:33+00:00',\n",
       "  'name': '1970–present',\n",
       "  'display_name': 'Contemporary',\n",
       "  'description': 'Contemporary art refers to work made by living artists.  By this definition, all art has been contemporary at the moment of its creation.  However, the art world often narrowly limits the use of this term to artwork made after 1970 as a successor to [modern art](/gene/modern-1).  Distinguished by a lack of medium specificity and ideological “-isms,” contemporary art reflects the diversity of our current culture and society.  Today’s artists are responding to complex concepts such as [identity politics](/gene/identity-politics-1), [institutional critique](/institutional-critique), and [globalization](/gene/globalization), often through artwork with challenging aesthetics.  Defying the status quo, contemporaries like [Tania Bruguera](/artist/tania-bruguera), [Kara Walker](/artist/kara-walker), and [Ai Weiwei](/artist/ai-weiwei) are forging paths for [emerging talents](/gene/emerging-art) and future provocateurs.',\n",
       "  'image_versions': ['big_and_tall', 'square500', 'tall', 'thumb'],\n",
       "  '_links': {'thumbnail': {'href': 'https://d32dm0rphc51dk.cloudfront.net/ei_qOKiYT9PPwl5Jm6H8Xw/big_and_tall.jpg'},\n",
       "   'image': {'href': 'https://d32dm0rphc51dk.cloudfront.net/ei_qOKiYT9PPwl5Jm6H8Xw/{image_version}.jpg',\n",
       "    'templated': True},\n",
       "   'self': {'href': 'https://api.artsy.net/api/genes/4d90d18fdcdd5f44a5000025'},\n",
       "   'permalink': {'href': 'http://www.artsy.net/gene/1970-present'},\n",
       "   'artworks': {'href': 'https://api.artsy.net/api/artworks?gene_id=4d90d18fdcdd5f44a5000025'},\n",
       "   'published_artworks': {'href': 'https://api.artsy.net/api/artworks?artist_id=4d90d18fdcdd5f44a5000025&published=true'},\n",
       "   'artists': {'href': 'https://api.artsy.net/api/artists?gene_id=4d90d18fdcdd5f44a5000025'}}},\n",
       " {'id': '4f3eba372ee99a0001000665',\n",
       "  'created_at': '2012-02-17T20:36:07+00:00',\n",
       "  'updated_at': '2018-11-11T08:55:06+00:00',\n",
       "  'name': 'Advertising and Brands',\n",
       "  'display_name': None,\n",
       "  'description': 'Artworks that feature advertisements and logos. [Andy Warhol](/artist/andy-warhol) is most often associated with this practice. His [Pop Art](/gene/pop-art) paintings featuring Campbell’s soup cans and Coca-Cola bottles are icons of contemporary art history. While Pop Art is most often credited with introducing these types of visuals into art history—and moreover, making them the primary feature of an artwork—the practice dates back to [cubist](/gene/cubism) [collage](/gene/collage) in the 1910s. [Pablo Picasso](/artist/pablo-picasso) and [George Braque’s](/artist/georges-braque) papier-collé works commonly included newspaper advertisements. Today, [street artists](/gene/graffiti-slash-street-art) commonly use corporate logos in their work to criticize corporate practices and globalization.',\n",
       "  'image_versions': ['big_and_tall', 'square500', 'tall', 'thumb'],\n",
       "  '_links': {'thumbnail': {'href': 'https://d32dm0rphc51dk.cloudfront.net/jki8jRj3XCMS70bJqN5D2Q/big_and_tall.jpg'},\n",
       "   'image': {'href': 'https://d32dm0rphc51dk.cloudfront.net/jki8jRj3XCMS70bJqN5D2Q/{image_version}.jpg',\n",
       "    'templated': True},\n",
       "   'self': {'href': 'https://api.artsy.net/api/genes/4f3eba372ee99a0001000665'},\n",
       "   'permalink': {'href': 'http://www.artsy.net/gene/advertising-and-brands'},\n",
       "   'artworks': {'href': 'https://api.artsy.net/api/artworks?gene_id=4f3eba372ee99a0001000665'},\n",
       "   'published_artworks': {'href': 'https://api.artsy.net/api/artworks?artist_id=4f3eba372ee99a0001000665&published=true'},\n",
       "   'artists': {'href': 'https://api.artsy.net/api/artists?gene_id=4f3eba372ee99a0001000665'}}},\n",
       " {'id': '4dc7eb8432e67b0001000127',\n",
       "  'created_at': '2011-05-09T13:26:28+00:00',\n",
       "  'updated_at': '2018-11-12T08:55:00+00:00',\n",
       "  'name': 'Americana',\n",
       "  'display_name': None,\n",
       "  'description': 'Artworks featuring objects or imagery associated with the United States, its history, and its culture, from Westerns and apple pie to World War II and the American flag. More often than not, artists have used Americana less to promote the values of America than as a means for cultural criticism.',\n",
       "  'image_versions': ['big_and_tall', 'square500', 'tall', 'thumb'],\n",
       "  '_links': {'thumbnail': {'href': 'https://d32dm0rphc51dk.cloudfront.net/QWqfxjdklRIyafVgLzkVJg/big_and_tall.jpg'},\n",
       "   'image': {'href': 'https://d32dm0rphc51dk.cloudfront.net/QWqfxjdklRIyafVgLzkVJg/{image_version}.jpg',\n",
       "    'templated': True},\n",
       "   'self': {'href': 'https://api.artsy.net/api/genes/4dc7eb8432e67b0001000127'},\n",
       "   'permalink': {'href': 'http://www.artsy.net/gene/americana'},\n",
       "   'artworks': {'href': 'https://api.artsy.net/api/artworks?gene_id=4dc7eb8432e67b0001000127'},\n",
       "   'published_artworks': {'href': 'https://api.artsy.net/api/artworks?artist_id=4dc7eb8432e67b0001000127&published=true'},\n",
       "   'artists': {'href': 'https://api.artsy.net/api/artists?gene_id=4dc7eb8432e67b0001000127'}}}]"
      ]
     },
     "execution_count": 40,
     "metadata": {},
     "output_type": "execute_result"
    }
   ],
   "source": [
    "genes.json()['_embedded']['genes']"
   ]
  },
  {
   "cell_type": "code",
   "execution_count": null,
   "metadata": {},
   "outputs": [],
   "source": []
  }
 ],
 "metadata": {
  "kernelspec": {
   "display_name": "Python 3",
   "language": "python",
   "name": "python3"
  },
  "language_info": {
   "codemirror_mode": {
    "name": "ipython",
    "version": 3
   },
   "file_extension": ".py",
   "mimetype": "text/x-python",
   "name": "python",
   "nbconvert_exporter": "python",
   "pygments_lexer": "ipython3",
   "version": "3.7.0"
  }
 },
 "nbformat": 4,
 "nbformat_minor": 2
}
