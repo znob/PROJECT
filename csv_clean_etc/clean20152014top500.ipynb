{
 "cells": [
  {
   "cell_type": "code",
   "execution_count": 2,
   "metadata": {},
   "outputs": [],
   "source": [
    "import pandas as pd\n",
    "import re"
   ]
  },
  {
   "cell_type": "code",
   "execution_count": 7,
   "metadata": {},
   "outputs": [],
   "source": [
    "file = 'topartistsoverall2016.csv'"
   ]
  },
  {
   "cell_type": "code",
   "execution_count": 11,
   "metadata": {},
   "outputs": [],
   "source": [
    "import csv\n",
    "def get_data(file):\n",
    "    file = file\n",
    "    artists = []\n",
    "    with open(file) as fh:\n",
    "        rd = csv.DictReader(fh, delimiter = ',')\n",
    "        for row in rd:\n",
    "            artists.append(row)\n",
    "    return artists"
   ]
  },
  {
   "cell_type": "code",
   "execution_count": 15,
   "metadata": {},
   "outputs": [
    {
     "data": {
      "text/plain": [
       "[OrderedDict([('A', '1'),\n",
       "              ('B', 'pICAsso pablo (1881-1973)'),\n",
       "              ('C', '650,837,410'),\n",
       "              ('D', '2,875'),\n",
       "              ('E', '179,365,000')]),\n",
       " OrderedDict([('A', '2'),\n",
       "              ('B', 'WARHol Andy (1928-1987)'),\n",
       "              ('C', '523,568,378'),\n",
       "              ('D', '1,453'),\n",
       "              ('E', '56,165,000')])]"
      ]
     },
     "execution_count": 15,
     "metadata": {},
     "output_type": "execute_result"
    }
   ],
   "source": [
    "x = get_data(file)\n",
    "x[:2]"
   ]
  },
  {
   "cell_type": "code",
   "execution_count": 14,
   "metadata": {},
   "outputs": [],
   "source": [
    "titles2015 = ['Rank', 'Artist', 'Turnover', 'Sold lots', 'Top Auction Result']"
   ]
  },
  {
   "cell_type": "code",
   "execution_count": 43,
   "metadata": {},
   "outputs": [],
   "source": [
    "def clean_data(read_file, year):\n",
    "    return_list = []\n",
    "    for artist in read_file:\n",
    "        new_item = {}\n",
    "        new_item['Rank'] = int(artist['A'])\n",
    "        name_date = artist['B'].title().split()\n",
    "        new_item['Name'] = list(reversed(name_date[:-1]))\n",
    "        years = name_date[-1].strip('()').split('-')\n",
    "        new_item['Life'] = years\n",
    "        new_item['TotalSold'] = int(re.sub(\"[^0-9]\", \"\", artist['C']))\n",
    "        new_item['TotalLots'] = int(re.sub(\"[^0-9]\", \"\", artist['D']))\n",
    "        new_item['MaxPrice'] = int(re.sub(\"[^0-9]\", \"\", artist['E']))\n",
    "        new_item['SaleYear'] = year\n",
    "        return_list.append(new_item)\n",
    "    return return_list"
   ]
  },
  {
   "cell_type": "code",
   "execution_count": 44,
   "metadata": {},
   "outputs": [],
   "source": [
    "cleantop5002015 = clean_data(x, 2015)"
   ]
  },
  {
   "cell_type": "code",
   "execution_count": 45,
   "metadata": {},
   "outputs": [
    {
     "data": {
      "text/plain": [
       "{'Rank': 3,\n",
       " 'Name': ['Claude', 'Monet'],\n",
       " 'Life': ['1840', '1926'],\n",
       " 'TotalSold': 338744605,\n",
       " 'TotalLots': 36,\n",
       " 'MaxPrice': 54010000,\n",
       " 'SaleYear': 2015}"
      ]
     },
     "execution_count": 45,
     "metadata": {},
     "output_type": "execute_result"
    }
   ],
   "source": [
    "cleantop5002015[2]"
   ]
  },
  {
   "cell_type": "code",
   "execution_count": 46,
   "metadata": {},
   "outputs": [],
   "source": [
    "file1 = '2014top500.csv'\n",
    "y = get_data(file1)\n",
    "cleantop5002014 = clean_data(y, 2014)"
   ]
  },
  {
   "cell_type": "code",
   "execution_count": 69,
   "metadata": {},
   "outputs": [
    {
     "data": {
      "text/plain": [
       "{'Rank': 1,\n",
       " 'Name': ['Andy', 'Warhol'],\n",
       " 'Life': ['1928', '1987'],\n",
       " 'TotalSold': 569507083,\n",
       " 'TotalLots': 1394,\n",
       " 'MaxPrice': 73000000,\n",
       " 'SaleYear': 2014}"
      ]
     },
     "execution_count": 69,
     "metadata": {},
     "output_type": "execute_result"
    }
   ],
   "source": [
    "cleantop5002014[0]"
   ]
  },
  {
   "cell_type": "code",
   "execution_count": 74,
   "metadata": {},
   "outputs": [],
   "source": [
    "file2 = '2009500.csv'\n",
    "z = get_data(file2)"
   ]
  },
  {
   "cell_type": "code",
   "execution_count": 75,
   "metadata": {},
   "outputs": [
    {
     "data": {
      "text/plain": [
       "OrderedDict([('A', '1'),\n",
       "             ('B', '1 PICASSO Pablo (1881-1973)'),\n",
       "             ('C', '121,018,218'),\n",
       "             ('D', '262,473,114'),\n",
       "             ('E', '1754'),\n",
       "             ('F', '1793'),\n",
       "             ('G', '13,000,000'),\n",
       "             ('H', '17,100,000')])"
      ]
     },
     "execution_count": 75,
     "metadata": {},
     "output_type": "execute_result"
    }
   ],
   "source": [
    "z[0]\n",
    "# A, B, C, E, G"
   ]
  },
  {
   "cell_type": "code",
   "execution_count": 76,
   "metadata": {},
   "outputs": [],
   "source": [
    "def clean_data_extended(read_file, year):\n",
    "    return_list = []\n",
    "    for artist in read_file:\n",
    "        new_item = {}\n",
    "        new_item['Rank'] = int(artist['A'])\n",
    "        name_date = artist['B'].title().split()\n",
    "        new_item['Name'] = list(reversed(name_date[:-1]))\n",
    "        years = name_date[-1].strip('()').split('-')\n",
    "        new_item['Life'] = years\n",
    "        new_item['TotalSold'] = int(re.sub(\"[^0-9]\", \"\", artist['C']))\n",
    "        new_item['TotalLots'] = int(re.sub(\"[^0-9]\", \"\", artist['E']))\n",
    "        new_item['MaxPrice'] = int(re.sub(\"[^0-9]\", \"\", artist['G']))\n",
    "        new_item['SaleYear'] = year\n",
    "        return_list.append(new_item)\n",
    "    return return_list"
   ]
  },
  {
   "cell_type": "code",
   "execution_count": 77,
   "metadata": {},
   "outputs": [],
   "source": [
    "cleantop5002009 = clean_data_extended(z, 2009)"
   ]
  },
  {
   "cell_type": "code",
   "execution_count": 78,
   "metadata": {},
   "outputs": [
    {
     "data": {
      "text/plain": [
       "{'Rank': 500,\n",
       " 'Name': ['Pavlovich', 'Ivan', 'Pokhitonov', '408'],\n",
       " 'Life': ['1851', '1924'],\n",
       " 'TotalSold': 1336678,\n",
       " 'TotalLots': 11,\n",
       " 'MaxPrice': 250215,\n",
       " 'SaleYear': 2009}"
      ]
     },
     "execution_count": 78,
     "metadata": {},
     "output_type": "execute_result"
    }
   ],
   "source": [
    "cleantop5002009[-1]"
   ]
  },
  {
   "cell_type": "code",
   "execution_count": 72,
   "metadata": {},
   "outputs": [],
   "source": [
    "def clean_extended(data):\n",
    "    for artist in data:\n",
    "        if artist['Name'][-1].isdigit():\n",
    "            artist['Name'].pop()"
   ]
  },
  {
   "cell_type": "code",
   "execution_count": 81,
   "metadata": {},
   "outputs": [
    {
     "data": {
      "text/plain": [
       "{'Rank': 500,\n",
       " 'Name': ['Pavlovich', 'Ivan', 'Pokhitonov'],\n",
       " 'Life': ['1851', '1924'],\n",
       " 'TotalSold': 1336678,\n",
       " 'TotalLots': 11,\n",
       " 'MaxPrice': 250215,\n",
       " 'SaleYear': 2009}"
      ]
     },
     "execution_count": 81,
     "metadata": {},
     "output_type": "execute_result"
    }
   ],
   "source": [
    "clean_extended(cleantop5002009)\n",
    "cleantop5002009[-1]"
   ]
  },
  {
   "cell_type": "code",
   "execution_count": 82,
   "metadata": {},
   "outputs": [],
   "source": [
    "file3 = '2008500.csv'\n",
    "w = get_data(file3)\n",
    "cleantop5002008 = clean_data_extended(w, 2008)"
   ]
  },
  {
   "cell_type": "code",
   "execution_count": 83,
   "metadata": {},
   "outputs": [
    {
     "data": {
      "text/plain": [
       "{'Rank': 500,\n",
       " 'Name': ['Sidney', 'William', 'Mount'],\n",
       " 'Life': ['1807', '1868'],\n",
       " 'TotalSold': 2007000,\n",
       " 'TotalLots': 3,\n",
       " 'MaxPrice': 2000000,\n",
       " 'SaleYear': 2008}"
      ]
     },
     "execution_count": 83,
     "metadata": {},
     "output_type": "execute_result"
    }
   ],
   "source": [
    "cleantop5002008[-1]"
   ]
  },
  {
   "cell_type": "code",
   "execution_count": 84,
   "metadata": {},
   "outputs": [],
   "source": [
    "clean_extended(cleantop5002008)"
   ]
  },
  {
   "cell_type": "code",
   "execution_count": 85,
   "metadata": {},
   "outputs": [
    {
     "data": {
      "text/plain": [
       "{'Rank': 496,\n",
       " 'Name': ['Ii', 'Rudolf', 'Swoboda'],\n",
       " 'Life': ['1859', '1914'],\n",
       " 'TotalSold': 2009931,\n",
       " 'TotalLots': 3,\n",
       " 'MaxPrice': 1994000,\n",
       " 'SaleYear': 2008}"
      ]
     },
     "execution_count": 85,
     "metadata": {},
     "output_type": "execute_result"
    }
   ],
   "source": [
    "cleantop5002008[-5]"
   ]
  },
  {
   "cell_type": "code",
   "execution_count": null,
   "metadata": {},
   "outputs": [],
   "source": []
  }
 ],
 "metadata": {
  "kernelspec": {
   "display_name": "Python 3",
   "language": "python",
   "name": "python3"
  },
  "language_info": {
   "codemirror_mode": {
    "name": "ipython",
    "version": 3
   },
   "file_extension": ".py",
   "mimetype": "text/x-python",
   "name": "python",
   "nbconvert_exporter": "python",
   "pygments_lexer": "ipython3",
   "version": "3.7.0"
  }
 },
 "nbformat": 4,
 "nbformat_minor": 2
}
