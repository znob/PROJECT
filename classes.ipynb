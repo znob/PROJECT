{
 "cells": [
  {
   "cell_type": "code",
   "execution_count": 14,
   "metadata": {},
   "outputs": [],
   "source": [
    "from sqlalchemy import *\n",
    "from sqlalchemy.ext.declarative import declarative_base\n",
    "from sqlalchemy.orm import sessionmaker, relationship\n",
    "import re\n",
    "import time\n",
    "import unidecode"
   ]
  },
  {
   "cell_type": "code",
   "execution_count": 2,
   "metadata": {},
   "outputs": [],
   "source": [
    "Base = declarative_base()"
   ]
  },
  {
   "cell_type": "code",
   "execution_count": 3,
   "metadata": {},
   "outputs": [],
   "source": [
    "class Artist(Base):\n",
    "    __tablename__ = 'artists'\n",
    "    id = Column(Integer, primary_key=True)\n",
    "    name = Column(Text)\n",
    "    gender = Column(Text)\n",
    "    birthday = Column(Integer)\n",
    "    deathday = Column(Integer)\n",
    "#     hometown = Column(Text)\n",
    "    location = Column(Text)\n",
    "    nationality = Column(Text)\n",
    "    years = relationship('Year', back_populates='artist')\n",
    "    genes = relationship('Gene', secondary='artists_genes')"
   ]
  },
  {
   "cell_type": "code",
   "execution_count": 4,
   "metadata": {},
   "outputs": [],
   "source": [
    "class Year(Base):\n",
    "    __tablename__ = 'years'\n",
    "    id = Column(Integer, primary_key=True)\n",
    "    year = Column(Integer)\n",
    "    rank = Column(Integer)\n",
    "    artist_id = Column(Integer, ForeignKey('artists.id'))\n",
    "    artist = relationship('Artist', back_populates='years')\n",
    "    totalsold = Column(Integer)\n",
    "    totallots =  Column(Integer)\n",
    "    maxprice = Column(Integer)"
   ]
  },
  {
   "cell_type": "code",
   "execution_count": 5,
   "metadata": {},
   "outputs": [],
   "source": [
    "#if no display_name, name\n",
    "class Gene(Base):\n",
    "    __tablename__= 'genes'\n",
    "    id = Column(Integer, primary_key=True)\n",
    "    name = Column(Text)\n",
    "    artists = relationship('Artist', secondary='artists_genes')"
   ]
  },
  {
   "cell_type": "code",
   "execution_count": 6,
   "metadata": {},
   "outputs": [],
   "source": [
    "class ArtistGene(Base):\n",
    "    __tablename__ = 'artists_genes'\n",
    "    artist_id = Column(Integer, ForeignKey('artists.id'), primary_key=True)\n",
    "    gene_id = Column(Integer, ForeignKey('genes.id'), primary_key=True)"
   ]
  },
  {
   "cell_type": "code",
   "execution_count": 25,
   "metadata": {},
   "outputs": [],
   "source": [
    "engine = create_engine('sqlite:///artsy.db')\n",
    "Base.metadata.create_all(engine)"
   ]
  },
  {
   "cell_type": "code",
   "execution_count": 26,
   "metadata": {},
   "outputs": [],
   "source": [
    "Session = sessionmaker(bind=engine)\n",
    "session = Session()"
   ]
  },
  {
   "cell_type": "code",
   "execution_count": 9,
   "metadata": {},
   "outputs": [],
   "source": [
    "from artists2010 import clean2010top500"
   ]
  },
  {
   "cell_type": "code",
   "execution_count": null,
   "metadata": {},
   "outputs": [],
   "source": [
    "\"-\".join(clean2010top500[400]['Name']).lower()"
   ]
  },
  {
   "cell_type": "code",
   "execution_count": 10,
   "metadata": {},
   "outputs": [],
   "source": [
    "import requests\n",
    "import json\n",
    "\n",
    "client_id = '5a2c7ea90a393fa55c65'\n",
    "client_secret = '5cda60eedbc43c586621c30d6d19210e'\n",
    "\n",
    "r = requests.post('https://api.artsy.net/api/tokens/xapp_token',\n",
    "                      data={'client_id': client_id, 'client_secret': client_secret})\n",
    "\n",
    "token_text = json.loads(r.text)\n",
    "\n",
    "token = token_text['token']\n",
    "\n",
    "headers = {'X-Xapp-Token': token}\n",
    "\n",
    "list_answer = {}\n",
    "artists = 'qi-baishi'\n",
    "\n",
    "# api_url='https://api.artsy.net/api/artists/'+artists.lower()\n",
    "api_url = 'https://api.artsy.net/api/search?offset=0&q=ZHU+DA'\n",
    "res = requests.get(api_url, headers=headers)\n",
    "res.encoding = 'utf-8'"
   ]
  },
  {
   "cell_type": "code",
   "execution_count": 11,
   "metadata": {},
   "outputs": [
    {
     "data": {
      "text/plain": [
       "'https://api.artsy.net/api/artists/4ee262199de8920001000530'"
      ]
     },
     "execution_count": 11,
     "metadata": {},
     "output_type": "execute_result"
    }
   ],
   "source": [
    "res.json()['_embedded']['results'][0]['_links']['self']['href']"
   ]
  },
  {
   "cell_type": "code",
   "execution_count": 12,
   "metadata": {},
   "outputs": [],
   "source": [
    "def verify_artist(json_thing):\n",
    "    if json_thing.get('type') != 'other_error':\n",
    "        return True\n",
    "    elif json_thing.get('type') == 'other_error':\n",
    "        return False\n",
    "\n",
    "# Order is fine, gotta figure 404s\n",
    "def query_json(artist_name):\n",
    "    artist_name = [re.sub(\"[')(.]\", '', x)  for x in artist_name]\n",
    "    artist_name = [unidecode.unidecode(y) for y in artist_name]\n",
    "    name = \"-\".join(artist_name)\n",
    "    api_url='https://api.artsy.net/api/artists/'+name.lower()\n",
    "    res = requests.get(api_url, headers=headers)\n",
    "    res.encoding = 'utf-8'\n",
    "    verifiable = verify_artist(res.json())\n",
    "    if  verifiable == True:\n",
    "        #debugging\n",
    "        print('verified true')\n",
    "        print(res)\n",
    "        #########\n",
    "        return res.json()\n",
    "    elif verifiable == False :\n",
    "        new_name = list(reversed(artist_name))\n",
    "        name = \"-\".join(new_name)\n",
    "        api_url='https://api.artsy.net/api/artists/'+name.lower()\n",
    "        res = requests.get(api_url, headers=headers)\n",
    "        res.encoding = 'utf-8'\n",
    "        #debugging\n",
    "        print('flipped name')\n",
    "        print(res)\n",
    "        #########\n",
    "        if res.status_code == 404:\n",
    "            search_url = 'https://api.artsy.net/api/search?q='+ name\n",
    "            res = requests.get(search_url, headers=headers)\n",
    "            res.encoding = 'utf-8'\n",
    "            t = res.json()['_embedded']['results'][0]['type']\n",
    "            if t  != 'artist':\n",
    "                return {'name' : \" \".join(artist_name), 'skip':True}  \n",
    "            api_url = res.json()['_embedded']['results'][0]['_links']['self']['href']\n",
    "            res = requests.get(api_url, headers=headers)\n",
    "            res.encoding = 'utf-8'\n",
    "            #debugging\n",
    "            print('search query')\n",
    "            print(res)\n",
    "            ##########\n",
    "            return res.json()\n",
    "        return res.json()\n",
    "    "
   ]
  },
  {
   "cell_type": "code",
   "execution_count": 15,
   "metadata": {},
   "outputs": [
    {
     "name": "stdout",
     "output_type": "stream",
     "text": [
      "flipped name\n",
      "<Response [404]>\n",
      "search query\n",
      "<Response [200]>\n"
     ]
    },
    {
     "data": {
      "text/plain": [
       "{'id': '4d8b92694eb68a1b2c0000ac',\n",
       " 'slug': 'kasimir-severinovich-malevich',\n",
       " 'created_at': '2010-09-09T17:10:23+00:00',\n",
       " 'updated_at': '2018-11-13T13:37:10+00:00',\n",
       " 'name': 'Kasimir Severinovich Malevich',\n",
       " 'sortable_name': 'Malevich Kasimir Severinovich',\n",
       " 'gender': 'male',\n",
       " 'biography': None,\n",
       " 'birthday': '1879',\n",
       " 'deathday': '1935',\n",
       " 'hometown': 'Kiev, Ukraine',\n",
       " 'location': 'Moscow, Russia',\n",
       " 'nationality': 'Russian',\n",
       " 'image_versions': ['four_thirds', 'large', 'square', 'tall'],\n",
       " '_links': {'thumbnail': {'href': 'https://d32dm0rphc51dk.cloudfront.net/Pwq2eoTMbl_vINVj2ooM3A/four_thirds.jpg'},\n",
       "  'image': {'href': 'https://d32dm0rphc51dk.cloudfront.net/Pwq2eoTMbl_vINVj2ooM3A/{image_version}.jpg',\n",
       "   'templated': True},\n",
       "  'self': {'href': 'https://api.artsy.net/api/artists/4d8b92694eb68a1b2c0000ac'},\n",
       "  'permalink': {'href': 'http://www.artsy.net/artist/kasimir-severinovich-malevich'},\n",
       "  'artworks': {'href': 'https://api.artsy.net/api/artworks?artist_id=4d8b92694eb68a1b2c0000ac'},\n",
       "  'published_artworks': {'href': 'https://api.artsy.net/api/artworks?artist_id=4d8b92694eb68a1b2c0000ac&published=true'},\n",
       "  'similar_artists': {'href': 'https://api.artsy.net/api/artists?similar_to_artist_id=4d8b92694eb68a1b2c0000ac'},\n",
       "  'similar_contemporary_artists': {'href': 'https://api.artsy.net/api/artists?similar_to_artist_id=4d8b92694eb68a1b2c0000ac&similarity_type=contemporary'},\n",
       "  'genes': {'href': 'https://api.artsy.net/api/genes?artist_id=4d8b92694eb68a1b2c0000ac'}}}"
      ]
     },
     "execution_count": 15,
     "metadata": {},
     "output_type": "execute_result"
    }
   ],
   "source": [
    "query_json(['Kasimir', 'Sevrinovitch', 'Malevich'])"
   ]
  },
  {
   "cell_type": "code",
   "execution_count": 16,
   "metadata": {},
   "outputs": [],
   "source": [
    "def create_genes(artist_json):\n",
    "    genes_toadd = []\n",
    "    if artist_json.get('skip'):\n",
    "        return []\n",
    "    else:\n",
    "        x = artist_json['_links']['genes']['href']\n",
    "    genes = requests.get(x, headers=headers)\n",
    "    gene_json = genes.json()['_embedded']['genes']\n",
    "    artist_genes = []\n",
    "    for gene in gene_json:\n",
    "        if gene['display_name'] != None:\n",
    "            artist_genes.append(gene['display_name']) \n",
    "        else: \n",
    "            artist_genes.append(gene['name'])\n",
    "    gene_objects = []\n",
    "    for gene in artist_genes:\n",
    "        existing = session.query(Gene).filter(Gene.name == gene).first()\n",
    "        if existing:\n",
    "            gene_objects.append(existing)\n",
    "        else:\n",
    "            gene_objects.append(Gene(name=gene))\n",
    "    return gene_objects"
   ]
  },
  {
   "cell_type": "code",
   "execution_count": 27,
   "metadata": {},
   "outputs": [],
   "source": [
    "session.query(Artist).filter(Artist.name == None).first()"
   ]
  },
  {
   "cell_type": "code",
   "execution_count": 18,
   "metadata": {},
   "outputs": [],
   "source": [
    "def create_artist(artist_name):\n",
    "    artist_json = query_json(artist_name)\n",
    "    existing = session.query(Artist).filter(Artist.name == artist_json['name']).first()\n",
    "    if existing:\n",
    "        return existing\n",
    "    else:\n",
    "        n = artist_json.get('name')\n",
    "        g = artist_json.get('gender')\n",
    "        bday = artist_json.get('birthday')\n",
    "        dday = artist_json.get('deathday')\n",
    "        loc = artist_json.get('location')\n",
    "        nat = artist_json.get('nationality')\n",
    "        gen = create_genes(artist_json)\n",
    "        return Artist(name=n, gender=g, birthday=bday,\n",
    "                     deathday=dday, location=loc, nationality=nat, genes=gen)"
   ]
  },
  {
   "cell_type": "code",
   "execution_count": 19,
   "metadata": {},
   "outputs": [],
   "source": [
    "def create_database_year(year):\n",
    "    for row in year:\n",
    "        print(row['Rank'])\n",
    "        name = row['Name']\n",
    "        artist_object = create_artist(name)\n",
    "        time.sleep(0.75)\n",
    "        year = Year(year=row['SaleYear'],\n",
    "                    rank=row['Rank'],\n",
    "                    artist=artist_object,\n",
    "                    totalsold=row['TotalSold'],\n",
    "                    totallots=row['TotalLots'],\n",
    "                    maxprice=row['MaxPrice'])\n",
    "        session.add(year)\n",
    "        session.commit()"
   ]
  },
  {
   "cell_type": "code",
   "execution_count": 20,
   "metadata": {},
   "outputs": [],
   "source": [
    "from artists2017 import clean2017top500"
   ]
  },
  {
   "cell_type": "code",
   "execution_count": 28,
   "metadata": {},
   "outputs": [
    {
     "name": "stdout",
     "output_type": "stream",
     "text": [
      "191\n",
      "verified true\n",
      "<Response [200]>\n",
      "192\n",
      "verified true\n",
      "<Response [200]>\n",
      "193\n",
      "verified true\n",
      "<Response [200]>\n",
      "194\n",
      "flipped name\n",
      "<Response [404]>\n",
      "search query\n",
      "<Response [200]>\n",
      "195\n",
      "verified true\n",
      "<Response [200]>\n",
      "196\n",
      "flipped name\n",
      "<Response [404]>\n",
      "search query\n",
      "<Response [200]>\n",
      "197\n",
      "verified true\n",
      "<Response [200]>\n",
      "198\n",
      "verified true\n",
      "<Response [200]>\n",
      "199\n",
      "verified true\n",
      "<Response [200]>\n",
      "200\n",
      "verified true\n",
      "<Response [200]>\n"
     ]
    }
   ],
   "source": [
    "create_database_year(clean2017top500[190:200])"
   ]
  },
  {
   "cell_type": "code",
   "execution_count": null,
   "metadata": {},
   "outputs": [],
   "source": []
  }
 ],
 "metadata": {
  "kernelspec": {
   "display_name": "Python 3",
   "language": "python",
   "name": "python3"
  },
  "language_info": {
   "codemirror_mode": {
    "name": "ipython",
    "version": 3
   },
   "file_extension": ".py",
   "mimetype": "text/x-python",
   "name": "python",
   "nbconvert_exporter": "python",
   "pygments_lexer": "ipython3",
   "version": "3.7.0"
  }
 },
 "nbformat": 4,
 "nbformat_minor": 2
}
